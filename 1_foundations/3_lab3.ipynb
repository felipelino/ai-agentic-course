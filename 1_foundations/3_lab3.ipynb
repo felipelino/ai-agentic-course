{
 "cells": [
  {
   "cell_type": "markdown",
   "metadata": {},
   "source": [
    "## Welcome to Lab 3 for Week 1 Day 4\n",
    "\n",
    "Today we're going to build something with immediate value!\n",
    "\n",
    "In the folder `me` I've put a single file `linkedin.pdf` - it's a PDF download of my LinkedIn profile.\n",
    "\n",
    "Please replace it with yours!\n",
    "\n",
    "I've also made a file called `summary.txt`\n",
    "\n",
    "We're not going to use Tools just yet - we're going to add the tool tomorrow."
   ]
  },
  {
   "cell_type": "markdown",
   "metadata": {},
   "source": [
    "<table style=\"margin: 0; text-align: left; width:100%\">\n",
    "    <tr>\n",
    "        <td style=\"width: 150px; height: 150px; vertical-align: middle;\">\n",
    "            <img src=\"../assets/tools.png\" width=\"150\" height=\"150\" style=\"display: block;\" />\n",
    "        </td>\n",
    "        <td>\n",
    "            <h2 style=\"color:#00bfff;\">Looking up packages</h2>\n",
    "            <span style=\"color:#00bfff;\">In this lab, we're going to use the wonderful Gradio package for building quick UIs, \n",
    "            and we're also going to use the popular PyPDF PDF reader. You can get guides to these packages by asking \n",
    "            ChatGPT or Claude, and you find all open-source packages on the repository <a href=\"https://pypi.org\">https://pypi.org</a>.\n",
    "            </span>\n",
    "        </td>\n",
    "    </tr>\n",
    "</table>"
   ]
  },
  {
   "cell_type": "code",
   "execution_count": 10,
   "metadata": {},
   "outputs": [],
   "source": [
    "# If you don't know what any of these packages do - you can always ask ChatGPT for a guide!\n",
    "import os\n",
    "from dotenv import load_dotenv\n",
    "from openai import OpenAI\n",
    "from pypdf import PdfReader\n",
    "import gradio as gr"
   ]
  },
  {
   "cell_type": "code",
   "execution_count": 11,
   "metadata": {},
   "outputs": [],
   "source": [
    "load_dotenv(override=True)\n",
    "#openai = OpenAI()\n",
    "openai = OpenAI(api_key= os.getenv(\"GOOGLE_API_KEY\"), base_url=\"https://generativelanguage.googleapis.com/v1beta/openai/\")"
   ]
  },
  {
   "cell_type": "code",
   "execution_count": 12,
   "metadata": {},
   "outputs": [],
   "source": [
    "reader = PdfReader(\"me/linkedin.pdf\")\n",
    "linkedin = \"\"\n",
    "for page in reader.pages:\n",
    "    text = page.extract_text()\n",
    "    if text:\n",
    "        linkedin += text"
   ]
  },
  {
   "cell_type": "code",
   "execution_count": 13,
   "metadata": {},
   "outputs": [
    {
     "name": "stdout",
     "output_type": "stream",
     "text": [
      "   \n",
      "Contact\n",
      "felipelino44@gmail.com\n",
      "www.linkedin.com/in/felipelino\n",
      "(LinkedIn)\n",
      "github.com/felipelino (Portfolio)\n",
      "Top Skills\n",
      "API REST\n",
      "AWS Elastic Beanstalk\n",
      "AWS Lambda\n",
      "Languages\n",
      "Inglês (Full Professional)\n",
      "Português (Native or Bilingual)\n",
      "Certifications\n",
      "Docker Crash Course for busy\n",
      "DevOps and Developers\n",
      "M103: Basic Cluster Administration\n",
      "Understanding and Developing\n",
      "Emotional Intelligence \n",
      "M220J: MongoDB for Java\n",
      "Developers\n",
      "Negotiation Secrets for Master\n",
      "Negotiators\n",
      "Honors-Awards\n",
      "Honorable Mention\n",
      "Honorable Mention\n",
      "Publications\n",
      "Work In Progress - Analyzer and\n",
      "Simulator of Petri Nets\n",
      "Felipe Lino\n",
      "Developer at Critical TechWorks\n",
      "Barreiro, Setúbal, Portugal\n",
      "Summary\n",
      "Recently I have been working as a Principal Engineer at Farfetch.\n",
      "Dealing with technologies like: Kubernetes, Helm Charts, REST\n",
      "APIs, Kafka. Helping teams, define process and collaborate to grow\n",
      "the company.\n",
      "I also had experience as Tech Team Lead at B2W, where I could\n",
      "work in several projects for the Marketplace.\n",
      "I participated in the evolution of the technological monolithic systems\n",
      "for the most modern ones that make use of decoupled APIs from a\n",
      "front-end.\n",
      "Personal Github: https://github.com/felipelino/\n",
      "Experience\n",
      "Critical TechWorks\n",
      "Senior Software Engineer\n",
      "April 2024 - Present (1 year 7 months)\n",
      "Lisboa, Lisboa, Portugal\n",
      "Work in the Team responsible to develop an Internal Portal to be used by\n",
      "BMW Group related to Confluent Kafka where users are able to create and\n",
      "configure Kafka Topics, Confluent Connectors, see status, check costs among\n",
      "other features.\n",
      "The mains technology used is: Kotlin and related frameworks, Angular 2,\n",
      "Database Postgres,\n",
      "Kafka, Kubernetes, CI/CD Github Actions\n",
      "Following the methodology SCRUM.\n",
      "My main contribution was to improve the Refinement Process of the team,\n",
      "the Deployment process now more reliable and faster. From a technical\n",
      "perspective was to enable the use of an internal type of connector created by\n",
      "BMW within the Portal.\n",
      "  Page 1 of 7   \n",
      "FARFETCH\n",
      "5 years 8 months\n",
      "Principal Engineer\n",
      "April 2023 - February 2024 (11 months)\n",
      "Lisboa, Portugal\n",
      "Follow my role as Principal Engineer (Interim) now as effective.\n",
      "Acting at least in this 3 dimensions:\n",
      "1.Technical support help: where I'm more “hands-on” in code helping the team\n",
      "that requires more help at that moment for a given subject.\n",
      "2. Support team leaders in the technical side: the Team Lead may need\n",
      "technical help to take decisions once they are more close to Management than\n",
      "the technical. As Principal interim it is my responsibility advice and help them\n",
      "3.Pursue subjects common to the cluster: There are some subjects that affect\n",
      "several teams. It is my responsibility as Principal to follow them and contribute,\n",
      "so the result of a discussion can bring benefits for all.\n",
      "With this in mind recently I achieve results as:\n",
      "- Help teams to migrate micro-services to adopt Azure Kubernetes Service,\n",
      "with Helm, ArgoCD and Jenkins as CI tool.\n",
      "- Support them with Java, once most of the teams don't have experts Java\n",
      "developers.\n",
      "- Help to define Open API Specs and Avro contracts\n",
      "- Help to build API Gateway with Kong\n",
      "Principal Engineer (Interim)\n",
      "January 2022 - April 2023 (1 year 4 months)\n",
      "Lisboa, Portugal\n",
      "One of the greatest achievements in this period was migrate a .NET 2.1 Public\n",
      "API to Azure Kubernetes Service + Kong (as API Gateway). Saving costs and\n",
      "reducing development cycle. I had to plan, deal with several development\n",
      "teams that share the ownership of the service and infrastructure.\n",
      "Senior Software Engineer .NET/Java\n",
      "July 2018 - August 2022 (4 years 2 months)\n",
      "Lisboa e Região, Portugal\n",
      "I worked in the \"Acquisition team\" between 2018/Jul - 2019/Nov . This team\n",
      "is responsible to share information about the catalog of products with third\n",
      "  Page 2 of 7   \n",
      "parties as Products Up, Criteo, Facebook, Google Shopping among others.\n",
      "I helped the team to re-design a flow from batch to near-real-time approach\n",
      "to update the information in our partners as soon as possible. We used\n",
      "technologies as .Net, Java, Cassandra, Docker Containers and Kafka.\n",
      "After 2019/Nov I joined another team responsible to improve the SEO\n",
      "in Farfetch Website. I helped to re-design some services decoupling\n",
      "management APIs (Used by internal management tools) and runtimes APIs\n",
      "(used by Farfetch website). Migrating data to MongoDB (for managemen) and\n",
      "prepare data for queries with Cassandra (runtime)\n",
      "B2W Digital\n",
      "Senior Software Engineer Team Lead\n",
      "July 2014 - June 2018 (4 years)\n",
      "Rio de Janeiro e Região, Brasil\n",
      "B2W Digital is the biggest e-commerce in Brazil owner of this brands:\n",
      "Americanas.com, Submarino and Shoptime. Here, I was the technical leader of\n",
      "the team responsible for APIs and Web tools for management of the Buy box\n",
      "as well as generation of metrics and interpretation of results. Through our APIs\n",
      "we have been able to increase the conversion rate on purchases made on the\n",
      "site and also customize the result by showing the best purchase offer for our\n",
      "customers.\n",
      "In the same company I acted as a Technical Lead working on Corporate\n",
      "Services Team. We work with microservices, REST, defining process and\n",
      "tools. These tools are used for other developers in the company. We build a\n",
      "Web App responsible to manage the micro-services that runs in our custom\n",
      "Platform As A Service (PAAS) \n",
      "Technologies: RAML, REST, Java, Angular JS (1 & 2), Docker, Amazon AWS,\n",
      "Cassandra, Mongo DB, and others.\n",
      "Universidade do Estado do Rio de Janeiro\n",
      "Substitute College Professor\n",
      "October 2008 - February 2015 (6 years 5 months)\n",
      "Rio de Janeiro Area, Brazil\n",
      "UERJ is one of the best universities in Brazil, there I was working as a\n",
      "professor, teaching classes for undergraduate students in Computer Science\n",
      "and Information Technology. The subjects taught are:\n",
      "- Algorithms and Data Structures: which are introduced in the issues of\n",
      "algorithms, trees, vector manipulation, recursion, linked lists, hash tables, lists,\n",
      "priority; \n",
      "  Page 3 of 7   \n",
      "- Operational Systems I: , the subjects covered are: competition process ,\n",
      "CPU scheduling, memory management, management of input / output,\n",
      "basic features of an OS, OS main modules, processes, threads, architecture\n",
      "modeling with Petri nets among others;\n",
      "- Computer Programming I: covering the basics of Language C;\n",
      "- Distributed Systems: Architecture, distributed process, communication (RMI,\n",
      "RPC, CORBA, Socket, Queues), Integration (EAI / SOA), synchronization,\n",
      "consistence and replication;\n",
      "- Data Process Introduction: convering the basics of language Pascal;\n",
      "- Introduction to Informatics: was a course for Economic Science classes on\n",
      "UERJ covering about technology in general. \n",
      "Other activities consisted of: preparing for exams, exercises and maintenance\n",
      "of page of the disciplines (https://sites.google.com/site/linouerj).\n",
      "Ideais\n",
      "Senior Software Engineer\n",
      "August 2013 - July 2014 (1 year)\n",
      "Rio de Janeiro Area, Brazil\n",
      "We create the REST APIs used by sellers on Marketplace for the e-\n",
      "commerces of B2W. \n",
      "With this, the partners who integrated with our systems manually by\n",
      "exchanging emails with spreadsheets, could do it automatically, with more\n",
      "security and agility. So the company was able to launch a campaign to attract\n",
      "even more stores to be part of the marketplace. \n",
      "Technologies: Java 7, tomcat 7 server, Swagger (for contract definition).\n",
      "PS: The company was bought by B2W Digital in 2014.\n",
      "Indra\n",
      "Senior Software Engineer\n",
      "December 2010 - July 2013 (2 years 8 months)\n",
      "Rio de Janeiro Area, Brazil\n",
      "We develop a set of web applications where employees in the technical areas\n",
      "of the company had greater ease in carrying out their research and information\n",
      "exchange between sectors.\n",
      "These tools were developed in Java and Python over the enterprise search\n",
      "tool Microsoft Fast ESP in project for Petrobras (biggest Petroleum Company\n",
      "in Latin America), to search documents in: Lotus Notes, Network Drive and\n",
      "Oracle Database.\n",
      "  Page 4 of 7   \n",
      "Ideais\n",
      "Senior Software Engineer and Team Lead\n",
      "April 2008 - November 2010 (2 years 8 months)\n",
      "Rio de Janeiro Area, Brazil\n",
      "As Team Leader from January 2010 - November 2010. I've lead the team\n",
      "who developed the systems related to the backend's sales catalog of\n",
      "Americanas.com and Shoptime.\n",
      "We achieve the purpose of facilitating the configuration of the products of the\n",
      "brands composing B2W, since the systems that are unique handle. This gave\n",
      "to the marketing area more agility and increase the sales.\n",
      "We create applications to synchronize the updates made by the user area\n",
      "(price, promotions, formation of kits, update sheet) on products to the website. \n",
      "Technologies: Spring, Solr (for search), Hibernate, Spring-WS. And we use\n",
      "agile development methodology based on Scrum, using approaches such as\n",
      "TDD (Test Driven Domain).\n",
      "Software Engineer (senior) from April 2008 - January 2010. I act in the\n",
      "development of Customer Service Management System for B2W, to integrate\n",
      "the customer service of the 3 brands (Americanas.com, Submarino.com and\n",
      "Shoptime) in a single tool. \n",
      "The solution adopted was assuming the use of tools from Oracle / BEA\n",
      "Workspace Studio and WebLogic Server 10. \n",
      "We used technologies like Spring, Spring WS for communication with Web\n",
      "Services, Hibernate with JPA, Page Flow as MVC (Page Flow is an extension\n",
      "of Struts developed by BEA)\n",
      "Besides developer team I worked as Mini-leader, responsible for packet\n",
      "generation, customer relationship, defining development strategies and assist\n",
      "the lead in the division of tasks among the other team members.\n",
      "Accenture Services\n",
      "2 years 3 months\n",
      "Full System Analyst\n",
      "May 2007 - April 2008 (1 year)\n",
      "Rio de Janeiro Area, Brazil\n",
      "Implementation of Bus SOA (Service Bus) in telecom company Oi / Telemar.\n",
      "The solution adopted by Oi uses tools from BEA: AquaLogic Service Bus,\n",
      "WebLogic Integration and AquaLogic Data Services running on the application\n",
      "server WebLogic Server 8.1 and WebLogic Server 9.2. \n",
      "The project consisted of implementing the first corporate services to be\n",
      "provided in Service Bus, defining policies, standards and procedures to be\n",
      "  Page 5 of 7   \n",
      "followed for the development of new services. Establishing a communication\n",
      "pattern between the high and low platforms of enterprise legacy systems.\n",
      "Trainee\n",
      "February 2006 - May 2007 (1 year 4 months)\n",
      "Worked in Factory of Enterprise Application Integration (EAI) Accenture\n",
      "in Oi Project at all stages of development from requirements: Technical\n",
      "Specification (TS), Peer review, Construction and Unit Testing, Code Review\n",
      "and Deploy. Elaborating further supporting documentation for Implementation:\n",
      "Migration Script, Run Book and Release Notes.\n",
      "Assist the team to ensure adherence to the Methodology Accenture.\n",
      "Developing in Java, PL-SQL and Shell Scripts, working on Solaris Unix\n",
      "environment.\n",
      "Enterprise Application Integration it is a concept of integration\n",
      "between distributed applications in Brazil, it was used mainly for major\n",
      "telecommunications companies such as GVT, BrasilTelecom (BrT), Embratel,\n",
      "Telemar Group (Oi), etc.\n",
      "The tool used in EAI integration solution of Oi (Telemar Group) is the Vitria\n",
      "BusinessWare based on technologies: Java, CORBA and XML.\n",
      "Major demands developed:\n",
      "- Integration Solution for Simple Orders between the CRM system of fixed\n",
      "telephony (STC, Mainframe), the mobile CRM system (Siebel), the activation\n",
      "platform (Initiator) and the prepaid system. The adopted solution makes use of\n",
      "various technologies such as CORBA, XML and JDBC.\n",
      "- Auto Deploy Solution. The solution was divided into 2 parts, the first is that\n",
      "the generation of the package and the second being deploy itself. To achieve\n",
      "this Shell-scripts were developed and was made using Ant to do versioning\n",
      "repository access of sources (PVCS), compilation of files, packet generation\n",
      "and later deploy.\n",
      "Universidade do Estado do Rio de Janeiro\n",
      "Instructor\n",
      "March 2005 - December 2005 (10 months)\n",
      "Rio de Janeiro Area, Brazil\n",
      "Instructor of discipline Computer Programming II (Java) at UERJ. The activities\n",
      "performed were:\n",
      "a. Answer questions from students of the discipline\n",
      "b. Preparation of lists of exercise\n",
      "c. Correction of lists of exercise\n",
      "d. Working in VAS Project - Verification of Software Architecture\n",
      "  Page 6 of 7   \n",
      "To carry out the activities it was necessary to have a domain of Java and\n",
      "object-oriented programming.\n",
      "The VAS Project is a research project that deals with the verification of\n",
      "software architecture by using formal methods and mathematical architecture\n",
      "description languages (ADLs), in particular the language CBabel. During the\n",
      "project was produced a case study showing the potential of CBabel ADL and\n",
      "its usefulness as a plug-in and was done for the Eclipse IDE for editing in\n",
      "Cbabel.\n",
      "Education\n",
      "Universidade do Estado do Rio de Janeiro\n",
      "Bachelor’s Degree in Informatics and and Information Technology, Information\n",
      "Technology · (2003 - 2007)\n",
      "  Page 7 of 7\n"
     ]
    }
   ],
   "source": [
    "print(linkedin)"
   ]
  },
  {
   "cell_type": "code",
   "execution_count": 14,
   "metadata": {},
   "outputs": [],
   "source": [
    "with open(\"me/summary.txt\", \"r\", encoding=\"utf-8\") as f:\n",
    "    summary = f.read()"
   ]
  },
  {
   "cell_type": "code",
   "execution_count": 15,
   "metadata": {},
   "outputs": [],
   "source": [
    "name = \"Felipe Lino\""
   ]
  },
  {
   "cell_type": "code",
   "execution_count": 16,
   "metadata": {},
   "outputs": [],
   "source": [
    "system_prompt = f\"You are acting as {name}. You are answering questions on {name}'s website, \\\n",
    "particularly questions related to {name}'s career, background, skills and experience. \\\n",
    "Your responsibility is to represent {name} for interactions on the website as faithfully as possible. \\\n",
    "You are given a summary of {name}'s background and LinkedIn profile which you can use to answer questions. \\\n",
    "Be professional and engaging, as if talking to a potential client or future employer who came across the website. \\\n",
    "If you don't know the answer, say so.\"\n",
    "\n",
    "system_prompt += f\"\\n\\n## Summary:\\n{summary}\\n\\n## LinkedIn Profile:\\n{linkedin}\\n\\n\"\n",
    "system_prompt += f\"With this context, please chat with the user, always staying in character as {name}.\"\n"
   ]
  },
  {
   "cell_type": "code",
   "execution_count": 17,
   "metadata": {},
   "outputs": [
    {
     "data": {
      "text/plain": [
       "'You are acting as Felipe Lino. You are answering questions on Felipe Lino\\'s website, particularly questions related to Felipe Lino\\'s career, background, skills and experience. Your responsibility is to represent Felipe Lino for interactions on the website as faithfully as possible. You are given a summary of Felipe Lino\\'s background and LinkedIn profile which you can use to answer questions. Be professional and engaging, as if talking to a potential client or future employer who came across the website. If you don\\'t know the answer, say so.\\n\\n## Summary:\\nMy name is Felipe Lino. I\\'m software engineer. I\\'m originally from Rio de Janeiro, Brazil, but I moved to Barreiro a city near Lisbon, Portugal in 2018.\\nI like to play Piano or electronic keyboards, I have a Yamaha DGX-670 where I record some Gospel songs. I\\'m a Christian I go to the Universal Church of Kingdom of the God where I do some activities with teenagers too. I\\'m married with Natalia for 14 years and I have a very nice dog called Janjão\\n\\n## LinkedIn Profile:\\n\\xa0 \\xa0\\nContact\\nfelipelino44@gmail.com\\nwww.linkedin.com/in/felipelino\\n(LinkedIn)\\ngithub.com/felipelino (Portfolio)\\nTop Skills\\nAPI REST\\nAWS Elastic Beanstalk\\nAWS Lambda\\nLanguages\\nInglês (Full Professional)\\nPortuguês (Native or Bilingual)\\nCertifications\\nDocker Crash Course for busy\\nDevOps and Developers\\nM103: Basic Cluster Administration\\nUnderstanding and Developing\\nEmotional Intelligence \\nM220J: MongoDB for Java\\nDevelopers\\nNegotiation Secrets for Master\\nNegotiators\\nHonors-Awards\\nHonorable Mention\\nHonorable Mention\\nPublications\\nWork In Progress - Analyzer and\\nSimulator of Petri Nets\\nFelipe Lino\\nDeveloper at Critical TechWorks\\nBarreiro, Setúbal, Portugal\\nSummary\\nRecently I have been working as a Principal Engineer at Farfetch.\\nDealing with technologies like: Kubernetes, Helm Charts, REST\\nAPIs, Kafka. Helping teams, define process and collaborate to grow\\nthe company.\\nI also had experience as Tech Team Lead at B2W, where I could\\nwork in several projects for the Marketplace.\\nI participated in the evolution of the technological monolithic systems\\nfor the most modern ones that make use of decoupled APIs from a\\nfront-end.\\nPersonal Github: https://github.com/felipelino/\\nExperience\\nCritical TechWorks\\nSenior Software Engineer\\nApril 2024\\xa0-\\xa0Present\\xa0(1 year 7 months)\\nLisboa, Lisboa, Portugal\\nWork in the Team responsible to develop an Internal Portal to be used by\\nBMW Group related to Confluent Kafka where users are able to create and\\nconfigure Kafka Topics, Confluent Connectors, see status, check costs among\\nother features.\\nThe mains technology used is: Kotlin and related frameworks, Angular 2,\\nDatabase Postgres,\\nKafka, Kubernetes, CI/CD Github Actions\\nFollowing the methodology SCRUM.\\nMy main contribution was to improve the Refinement Process of the team,\\nthe Deployment process now more reliable and faster. From a technical\\nperspective was to enable the use of an internal type of connector created by\\nBMW within the Portal.\\n\\xa0 Page 1 of 7\\xa0 \\xa0\\nFARFETCH\\n5 years 8 months\\nPrincipal Engineer\\nApril 2023\\xa0-\\xa0February 2024\\xa0(11 months)\\nLisboa, Portugal\\nFollow my role as Principal Engineer (Interim) now as effective.\\nActing at least in this 3 dimensions:\\n1.Technical support help: where I\\'m more “hands-on” in code helping the team\\nthat requires more help at that moment for a given subject.\\n2. Support team leaders in the technical side: the Team Lead may need\\ntechnical help to take decisions once they are more close to Management than\\nthe technical. As Principal interim it is my responsibility advice and help them\\n3.Pursue subjects common to the cluster: There are some subjects that affect\\nseveral teams. It is my responsibility as Principal to follow them and contribute,\\nso the result of a discussion can bring benefits for all.\\nWith this in mind recently I achieve results as:\\n- Help teams to migrate micro-services to adopt Azure Kubernetes Service,\\nwith Helm, ArgoCD and Jenkins as CI tool.\\n- Support them with Java, once most of the teams don\\'t have experts Java\\ndevelopers.\\n- Help to define Open API Specs and Avro contracts\\n- Help to build API Gateway with Kong\\nPrincipal Engineer (Interim)\\nJanuary 2022\\xa0-\\xa0April 2023\\xa0(1 year 4 months)\\nLisboa, Portugal\\nOne of the greatest achievements in this period was migrate a .NET 2.1 Public\\nAPI to Azure Kubernetes Service + Kong (as API Gateway). Saving costs and\\nreducing development cycle. I had to plan, deal with several development\\nteams that share the ownership of the service and infrastructure.\\nSenior Software Engineer .NET/Java\\nJuly 2018\\xa0-\\xa0August 2022\\xa0(4 years 2 months)\\nLisboa e Região, Portugal\\nI worked in the \"Acquisition team\" between 2018/Jul - 2019/Nov . This team\\nis responsible to share information about the catalog of products with third\\n\\xa0 Page 2 of 7\\xa0 \\xa0\\nparties as Products Up, Criteo, Facebook, Google Shopping among others.\\nI helped the team to re-design a flow from batch to near-real-time approach\\nto update the information in our partners as soon as possible. We used\\ntechnologies as .Net, Java, Cassandra, Docker Containers and Kafka.\\nAfter 2019/Nov I joined another team responsible to improve the SEO\\nin Farfetch Website. I helped to re-design some services decoupling\\nmanagement APIs (Used by internal management tools) and runtimes APIs\\n(used by Farfetch website). Migrating data to MongoDB (for managemen) and\\nprepare data for queries with Cassandra (runtime)\\nB2W Digital\\nSenior Software Engineer Team Lead\\nJuly 2014\\xa0-\\xa0June 2018\\xa0(4 years)\\nRio de Janeiro e Região, Brasil\\nB2W Digital is the biggest e-commerce in Brazil owner of this brands:\\nAmericanas.com, Submarino and Shoptime. Here, I was the technical leader of\\nthe team responsible for APIs and Web tools for management of the Buy box\\nas well as generation of metrics and interpretation of results. Through our APIs\\nwe have been able to increase the conversion rate on purchases made on the\\nsite and also customize the result by showing the best purchase offer for our\\ncustomers.\\nIn the same company I acted as a Technical Lead working on Corporate\\nServices Team. We work with microservices, REST, defining process and\\ntools. These tools are used for other developers in the company. We build a\\nWeb App responsible to manage the micro-services that runs in our custom\\nPlatform As A Service (PAAS) \\nTechnologies: RAML, REST, Java, Angular JS (1 & 2), Docker, Amazon AWS,\\nCassandra, Mongo DB, and others.\\nUniversidade do Estado do Rio de Janeiro\\nSubstitute College Professor\\nOctober 2008\\xa0-\\xa0February 2015\\xa0(6 years 5 months)\\nRio de Janeiro Area, Brazil\\nUERJ is one of the best universities in Brazil, there I was working as a\\nprofessor, teaching classes for undergraduate students in Computer Science\\nand Information Technology. The subjects taught are:\\n- Algorithms and Data Structures: which are introduced in the issues of\\nalgorithms, trees, vector manipulation, recursion, linked lists, hash tables, lists,\\npriority; \\n\\xa0 Page 3 of 7\\xa0 \\xa0\\n- Operational Systems I: , the subjects covered are: competition process ,\\nCPU scheduling, memory management, management of input / output,\\nbasic features of an OS, OS main modules, processes, threads, architecture\\nmodeling with Petri nets among others;\\n- Computer Programming I: covering the basics of Language C;\\n- Distributed Systems: Architecture, distributed process, communication (RMI,\\nRPC, CORBA, Socket, Queues), Integration (EAI / SOA), synchronization,\\nconsistence and replication;\\n- Data Process Introduction: convering the basics of language Pascal;\\n- Introduction to Informatics: was a course for Economic Science classes on\\nUERJ covering about technology in general. \\nOther activities consisted of: preparing for exams, exercises and maintenance\\nof page of the disciplines (https://sites.google.com/site/linouerj).\\nIdeais\\nSenior Software Engineer\\nAugust 2013\\xa0-\\xa0July 2014\\xa0(1 year)\\nRio de Janeiro Area, Brazil\\nWe create the REST APIs used by sellers on Marketplace for the e-\\ncommerces of B2W. \\nWith this, the partners who integrated with our systems manually by\\nexchanging emails with spreadsheets, could do it automatically, with more\\nsecurity and agility. So the company was able to launch a campaign to attract\\neven more stores to be part of the marketplace. \\nTechnologies: Java 7, tomcat 7 server, Swagger (for contract definition).\\nPS: The company was bought by B2W Digital in 2014.\\nIndra\\nSenior Software Engineer\\nDecember 2010\\xa0-\\xa0July 2013\\xa0(2 years 8 months)\\nRio de Janeiro Area, Brazil\\nWe develop a set of web applications where employees in the technical areas\\nof the company had greater ease in carrying out their research and information\\nexchange between sectors.\\nThese tools were developed in Java and Python over the enterprise search\\ntool Microsoft Fast ESP in project for Petrobras (biggest Petroleum Company\\nin Latin America), to search documents in: Lotus Notes, Network Drive and\\nOracle Database.\\n\\xa0 Page 4 of 7\\xa0 \\xa0\\nIdeais\\nSenior Software Engineer and Team Lead\\nApril 2008\\xa0-\\xa0November 2010\\xa0(2 years 8 months)\\nRio de Janeiro Area, Brazil\\nAs Team Leader from January 2010 - November 2010. I\\'ve lead the team\\nwho developed the systems related to the backend\\'s sales catalog of\\nAmericanas.com and Shoptime.\\nWe achieve the purpose of facilitating the configuration of the products of the\\nbrands composing B2W, since the systems that are unique handle. This gave\\nto the marketing area more agility and increase the sales.\\nWe create applications to synchronize the updates made by the user area\\n(price, promotions, formation of kits, update sheet) on products to the website. \\nTechnologies: Spring, Solr (for search), Hibernate, Spring-WS. And we use\\nagile development methodology based on Scrum, using approaches such as\\nTDD (Test Driven Domain).\\nSoftware Engineer (senior) from April 2008 - January 2010. I act in the\\ndevelopment of Customer Service Management System for B2W, to integrate\\nthe customer service of the 3 brands (Americanas.com, Submarino.com and\\nShoptime) in a single tool. \\nThe solution adopted was assuming the use of tools from Oracle / BEA\\nWorkspace Studio and WebLogic Server 10. \\nWe used technologies like Spring, Spring WS for communication with Web\\nServices, Hibernate with JPA, Page Flow as MVC (Page Flow is an extension\\nof Struts developed by BEA)\\nBesides developer team I worked as Mini-leader, responsible for packet\\ngeneration, customer relationship, defining development strategies and assist\\nthe lead in the division of tasks among the other team members.\\nAccenture Services\\n2 years 3 months\\nFull System Analyst\\nMay 2007\\xa0-\\xa0April 2008\\xa0(1 year)\\nRio de Janeiro Area, Brazil\\nImplementation of Bus SOA (Service Bus) in telecom company Oi / Telemar.\\nThe solution adopted by Oi uses tools from BEA: AquaLogic Service Bus,\\nWebLogic Integration and AquaLogic Data Services running on the application\\nserver WebLogic Server 8.1 and WebLogic Server 9.2. \\nThe project consisted of implementing the first corporate services to be\\nprovided in Service Bus, defining policies, standards and procedures to be\\n\\xa0 Page 5 of 7\\xa0 \\xa0\\nfollowed for the development of new services. Establishing a communication\\npattern between the high and low platforms of enterprise legacy systems.\\nTrainee\\nFebruary 2006\\xa0-\\xa0May 2007\\xa0(1 year 4 months)\\nWorked in Factory of Enterprise Application Integration (EAI) Accenture\\nin Oi Project at all stages of development from requirements: Technical\\nSpecification (TS), Peer review, Construction and Unit Testing, Code Review\\nand Deploy. Elaborating further supporting documentation for Implementation:\\nMigration Script, Run Book and Release Notes.\\nAssist the team to ensure adherence to the Methodology Accenture.\\nDeveloping in Java, PL-SQL and Shell Scripts, working on Solaris Unix\\nenvironment.\\nEnterprise Application Integration it is a concept of integration\\nbetween distributed applications in Brazil, it was used mainly for major\\ntelecommunications companies such as GVT, BrasilTelecom (BrT), Embratel,\\nTelemar Group (Oi), etc.\\nThe tool used in EAI integration solution of Oi (Telemar Group) is the Vitria\\nBusinessWare based on technologies: Java, CORBA and XML.\\nMajor demands developed:\\n- Integration Solution for Simple Orders between the CRM system of fixed\\ntelephony (STC, Mainframe), the mobile CRM system (Siebel), the activation\\nplatform (Initiator) and the prepaid system. The adopted solution makes use of\\nvarious technologies such as CORBA, XML and JDBC.\\n- Auto Deploy Solution. The solution was divided into 2 parts, the first is that\\nthe generation of the package and the second being deploy itself. To achieve\\nthis Shell-scripts were developed and was made using Ant to do versioning\\nrepository access of sources (PVCS), compilation of files, packet generation\\nand later deploy.\\nUniversidade do Estado do Rio de Janeiro\\nInstructor\\nMarch 2005\\xa0-\\xa0December 2005\\xa0(10 months)\\nRio de Janeiro Area, Brazil\\nInstructor of discipline Computer Programming II (Java) at UERJ. The activities\\nperformed were:\\na. Answer questions from students of the discipline\\nb. Preparation of lists of exercise\\nc. Correction of lists of exercise\\nd. Working in VAS Project - Verification of Software Architecture\\n\\xa0 Page 6 of 7\\xa0 \\xa0\\nTo carry out the activities it was necessary to have a domain of Java and\\nobject-oriented programming.\\nThe VAS Project is a research project that deals with the verification of\\nsoftware architecture by using formal methods and mathematical architecture\\ndescription languages (ADLs), in particular the language CBabel. During the\\nproject was produced a case study showing the potential of CBabel ADL and\\nits usefulness as a plug-in and was done for the Eclipse IDE for editing in\\nCbabel.\\nEducation\\nUniversidade do Estado do Rio de Janeiro\\nBachelor’s Degree in Informatics and and Information Technology,\\xa0Information\\nTechnology\\xa0·\\xa0(2003\\xa0-\\xa02007)\\n\\xa0 Page 7 of 7\\n\\nWith this context, please chat with the user, always staying in character as Felipe Lino.'"
      ]
     },
     "execution_count": 17,
     "metadata": {},
     "output_type": "execute_result"
    }
   ],
   "source": [
    "system_prompt"
   ]
  },
  {
   "cell_type": "code",
   "execution_count": 18,
   "metadata": {},
   "outputs": [],
   "source": [
    "def chat(message, history):\n",
    "    messages = [{\"role\": \"system\", \"content\": system_prompt}] + history + [{\"role\": \"user\", \"content\": message}]\n",
    "    response = openai.chat.completions.create(model=\"gemini-2.5-flash-preview-05-20\", messages=messages)\n",
    "    return response.choices[0].message.content"
   ]
  },
  {
   "cell_type": "markdown",
   "metadata": {},
   "source": [
    "## Special note for people not using OpenAI\n",
    "\n",
    "Some providers, like Groq, might give an error when you send your second message in the chat.\n",
    "\n",
    "This is because Gradio shoves some extra fields into the history object. OpenAI doesn't mind; but some other models complain.\n",
    "\n",
    "If this happens, the solution is to add this first line to the chat() function above. It cleans up the history variable:\n",
    "\n",
    "```python\n",
    "history = [{\"role\": h[\"role\"], \"content\": h[\"content\"]} for h in history]\n",
    "```\n",
    "\n",
    "You may need to add this in other chat() callback functions in the future, too."
   ]
  },
  {
   "cell_type": "code",
   "execution_count": 19,
   "metadata": {},
   "outputs": [
    {
     "name": "stdout",
     "output_type": "stream",
     "text": [
      "* Running on local URL:  http://127.0.0.1:7860\n",
      "* To create a public link, set `share=True` in `launch()`.\n"
     ]
    },
    {
     "data": {
      "text/html": [
       "<div><iframe src=\"http://127.0.0.1:7860/\" width=\"100%\" height=\"500\" allow=\"autoplay; camera; microphone; clipboard-read; clipboard-write;\" frameborder=\"0\" allowfullscreen></iframe></div>"
      ],
      "text/plain": [
       "<IPython.core.display.HTML object>"
      ]
     },
     "metadata": {},
     "output_type": "display_data"
    },
    {
     "data": {
      "text/plain": []
     },
     "execution_count": 19,
     "metadata": {},
     "output_type": "execute_result"
    }
   ],
   "source": [
    "gr.ChatInterface(chat, type=\"messages\").launch()"
   ]
  },
  {
   "cell_type": "markdown",
   "metadata": {},
   "source": [
    "## A lot is about to happen...\n",
    "\n",
    "1. Be able to ask an LLM to evaluate an answer\n",
    "2. Be able to rerun if the answer fails evaluation\n",
    "3. Put this together into 1 workflow\n",
    "\n",
    "All without any Agentic framework!"
   ]
  },
  {
   "cell_type": "code",
   "execution_count": 11,
   "metadata": {},
   "outputs": [],
   "source": [
    "# Create a Pydantic model for the Evaluation\n",
    "\n",
    "from pydantic import BaseModel\n",
    "\n",
    "class Evaluation(BaseModel):\n",
    "    is_acceptable: bool\n",
    "    feedback: str\n"
   ]
  },
  {
   "cell_type": "code",
   "execution_count": 23,
   "metadata": {},
   "outputs": [],
   "source": [
    "evaluator_system_prompt = f\"You are an evaluator that decides whether a response to a question is acceptable. \\\n",
    "You are provided with a conversation between a User and an Agent. Your task is to decide whether the Agent's latest response is acceptable quality. \\\n",
    "The Agent is playing the role of {name} and is representing {name} on their website. \\\n",
    "The Agent has been instructed to be professional and engaging, as if talking to a potential client or future employer who came across the website. \\\n",
    "The Agent has been provided with context on {name} in the form of their summary and LinkedIn details. Here's the information:\"\n",
    "\n",
    "evaluator_system_prompt += f\"\\n\\n## Summary:\\n{summary}\\n\\n## LinkedIn Profile:\\n{linkedin}\\n\\n\"\n",
    "evaluator_system_prompt += f\"With this context, please evaluate the latest response, replying with whether the response is acceptable and your feedback.\""
   ]
  },
  {
   "cell_type": "code",
   "execution_count": 24,
   "metadata": {},
   "outputs": [],
   "source": [
    "def evaluator_user_prompt(reply, message, history):\n",
    "    user_prompt = f\"Here's the conversation between the User and the Agent: \\n\\n{history}\\n\\n\"\n",
    "    user_prompt += f\"Here's the latest message from the User: \\n\\n{message}\\n\\n\"\n",
    "    user_prompt += f\"Here's the latest response from the Agent: \\n\\n{reply}\\n\\n\"\n",
    "    user_prompt += \"Please evaluate the response, replying with whether it is acceptable and your feedback.\"\n",
    "    return user_prompt"
   ]
  },
  {
   "cell_type": "code",
   "execution_count": 25,
   "metadata": {},
   "outputs": [],
   "source": [
    "import os\n",
    "gemini = OpenAI(\n",
    "    api_key=os.getenv(\"GOOGLE_API_KEY\"), \n",
    "    base_url=\"https://generativelanguage.googleapis.com/v1beta/openai/\"\n",
    ")"
   ]
  },
  {
   "cell_type": "code",
   "execution_count": 26,
   "metadata": {},
   "outputs": [],
   "source": [
    "def evaluate(reply, message, history) -> Evaluation:\n",
    "\n",
    "    messages = [{\"role\": \"system\", \"content\": evaluator_system_prompt}] + [{\"role\": \"user\", \"content\": evaluator_user_prompt(reply, message, history)}]\n",
    "    response = gemini.beta.chat.completions.parse(model=\"gemini-2.0-flash\", messages=messages, response_format=Evaluation)\n",
    "    return response.choices[0].message.parsed"
   ]
  },
  {
   "cell_type": "code",
   "execution_count": 27,
   "metadata": {},
   "outputs": [],
   "source": [
    "messages = [{\"role\": \"system\", \"content\": system_prompt}] + [{\"role\": \"user\", \"content\": \"do you hold a patent?\"}]\n",
    "response = openai.chat.completions.create(model=\"gpt-4o-mini\", messages=messages)\n",
    "reply = response.choices[0].message.content"
   ]
  },
  {
   "cell_type": "code",
   "execution_count": null,
   "metadata": {},
   "outputs": [],
   "source": [
    "reply"
   ]
  },
  {
   "cell_type": "code",
   "execution_count": null,
   "metadata": {},
   "outputs": [],
   "source": [
    "evaluate(reply, \"do you hold a patent?\", messages[:1])"
   ]
  },
  {
   "cell_type": "code",
   "execution_count": 30,
   "metadata": {},
   "outputs": [],
   "source": [
    "def rerun(reply, message, history, feedback):\n",
    "    updated_system_prompt = system_prompt + \"\\n\\n## Previous answer rejected\\nYou just tried to reply, but the quality control rejected your reply\\n\"\n",
    "    updated_system_prompt += f\"## Your attempted answer:\\n{reply}\\n\\n\"\n",
    "    updated_system_prompt += f\"## Reason for rejection:\\n{feedback}\\n\\n\"\n",
    "    messages = [{\"role\": \"system\", \"content\": updated_system_prompt}] + history + [{\"role\": \"user\", \"content\": message}]\n",
    "    response = openai.chat.completions.create(model=\"gpt-4o-mini\", messages=messages)\n",
    "    return response.choices[0].message.content"
   ]
  },
  {
   "cell_type": "code",
   "execution_count": 35,
   "metadata": {},
   "outputs": [],
   "source": [
    "def chat(message, history):\n",
    "    if \"patent\" in message:\n",
    "        system = system_prompt + \"\\n\\nEverything in your reply needs to be in pig latin - \\\n",
    "              it is mandatory that you respond only and entirely in pig latin\"\n",
    "    else:\n",
    "        system = system_prompt\n",
    "    messages = [{\"role\": \"system\", \"content\": system}] + history + [{\"role\": \"user\", \"content\": message}]\n",
    "    response = openai.chat.completions.create(model=\"gpt-4o-mini\", messages=messages)\n",
    "    reply =response.choices[0].message.content\n",
    "\n",
    "    evaluation = evaluate(reply, message, history)\n",
    "    \n",
    "    if evaluation.is_acceptable:\n",
    "        print(\"Passed evaluation - returning reply\")\n",
    "    else:\n",
    "        print(\"Failed evaluation - retrying\")\n",
    "        print(evaluation.feedback)\n",
    "        reply = rerun(reply, message, history, evaluation.feedback)       \n",
    "    return reply"
   ]
  },
  {
   "cell_type": "code",
   "execution_count": null,
   "metadata": {},
   "outputs": [],
   "source": [
    "gr.ChatInterface(chat, type=\"messages\").launch()"
   ]
  },
  {
   "cell_type": "markdown",
   "metadata": {},
   "source": []
  },
  {
   "cell_type": "code",
   "execution_count": null,
   "metadata": {},
   "outputs": [],
   "source": []
  }
 ],
 "metadata": {
  "kernelspec": {
   "display_name": ".venv",
   "language": "python",
   "name": "python3"
  },
  "language_info": {
   "codemirror_mode": {
    "name": "ipython",
    "version": 3
   },
   "file_extension": ".py",
   "mimetype": "text/x-python",
   "name": "python",
   "nbconvert_exporter": "python",
   "pygments_lexer": "ipython3",
   "version": "3.12.12"
  }
 },
 "nbformat": 4,
 "nbformat_minor": 2
}
