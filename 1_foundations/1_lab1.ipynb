{
 "cells": [
  {
   "cell_type": "markdown",
   "metadata": {},
   "source": [
    "# Welcome to the start of your adventure in Agentic AI"
   ]
  },
  {
   "cell_type": "markdown",
   "metadata": {},
   "source": [
    "<table style=\"margin: 0; text-align: left; width:100%\">\n",
    "    <tr>\n",
    "        <td style=\"width: 150px; height: 150px; vertical-align: middle;\">\n",
    "            <img src=\"../assets/stop.png\" width=\"150\" height=\"150\" style=\"display: block;\" />\n",
    "        </td>\n",
    "        <td>\n",
    "            <h2 style=\"color:#ff7800;\">Are you ready for action??</h2>\n",
    "            <span style=\"color:#ff7800;\">Have you completed all the setup steps in the <a href=\"../setup/\">setup</a> folder?<br/>\n",
    "            Have you read the <a href=\"../README.md\">README</a>? Many common questions are answered here!<br/>\n",
    "            Have you checked out the guides in the <a href=\"../guides/01_intro.ipynb\">guides</a> folder?<br/>\n",
    "            Well in that case, you're ready!!\n",
    "            </span>\n",
    "        </td>\n",
    "    </tr>\n",
    "</table>"
   ]
  },
  {
   "cell_type": "markdown",
   "metadata": {},
   "source": [
    "<table style=\"margin: 0; text-align: left; width:100%\">\n",
    "    <tr>\n",
    "        <td style=\"width: 150px; height: 150px; vertical-align: middle;\">\n",
    "            <img src=\"../assets/tools.png\" width=\"150\" height=\"150\" style=\"display: block;\" />\n",
    "        </td>\n",
    "        <td>\n",
    "            <h2 style=\"color:#00bfff;\">This code is a live resource - keep an eye out for my updates</h2>\n",
    "            <span style=\"color:#00bfff;\">I push updates regularly. As people ask questions or have problems, I add more examples and improve explanations. As a result, the code below might not be identical to the videos, as I've added more steps and better comments. Consider this like an interactive book that accompanies the lectures.<br/><br/>\n",
    "            I try to send emails regularly with important updates related to the course. You can find this in the 'Announcements' section of Udemy in the left sidebar. You can also choose to receive my emails via your Notification Settings in Udemy. I'm respectful of your inbox and always try to add value with my emails!\n",
    "            </span>\n",
    "        </td>\n",
    "    </tr>\n",
    "</table>"
   ]
  },
  {
   "cell_type": "markdown",
   "metadata": {},
   "source": [
    "### And please do remember to contact me if I can help\n",
    "\n",
    "And I love to connect: https://www.linkedin.com/in/eddonner/\n",
    "\n",
    "\n",
    "### New to Notebooks like this one? Head over to the guides folder!\n",
    "\n",
    "Just to check you've already added the Python and Jupyter extensions to Cursor, if not already installed:\n",
    "- Open extensions (View >> extensions)\n",
    "- Search for python, and when the results show, click on the ms-python one, and Install it if not already installed\n",
    "- Search for jupyter, and when the results show, click on the Microsoft one, and Install it if not already installed  \n",
    "Then View >> Explorer to bring back the File Explorer.\n",
    "\n",
    "And then:\n",
    "1. Click where it says \"Select Kernel\" near the top right, and select the option called `.venv (Python 3.12.9)` or similar, which should be the first choice or the most prominent choice. You may need to choose \"Python Environments\" first.\n",
    "2. Click in each \"cell\" below, starting with the cell immediately below this text, and press Shift+Enter to run\n",
    "3. Enjoy!\n",
    "\n",
    "After you click \"Select Kernel\", if there is no option like `.venv (Python 3.12.9)` then please do the following:  \n",
    "1. On Mac: From the Cursor menu, choose Settings >> VS Code Settings (NOTE: be sure to select `VSCode Settings` not `Cursor Settings`);  \n",
    "On Windows PC: From the File menu, choose Preferences >> VS Code Settings(NOTE: be sure to select `VSCode Settings` not `Cursor Settings`)  \n",
    "2. In the Settings search bar, type \"venv\"  \n",
    "3. In the field \"Path to folder with a list of Virtual Environments\" put the path to the project root, like C:\\Users\\username\\projects\\agents (on a Windows PC) or /Users/username/projects/agents (on Mac or Linux).  \n",
    "And then try again.\n",
    "\n",
    "Having problems with missing Python versions in that list? Have you ever used Anaconda before? It might be interferring. Quit Cursor, bring up a new command line, and make sure that your Anaconda environment is deactivated:    \n",
    "`conda deactivate`  \n",
    "And if you still have any problems with conda and python versions, it's possible that you will need to run this too:  \n",
    "`conda config --set auto_activate_base false`  \n",
    "and then from within the Agents directory, you should be able to run `uv python list` and see the Python 3.12 version."
   ]
  },
  {
   "cell_type": "code",
   "execution_count": 1,
   "metadata": {},
   "outputs": [],
   "source": [
    "# First let's do an import. If you get an Import Error, double check that your Kernel is correct..\n",
    "\n",
    "from dotenv import load_dotenv\n"
   ]
  },
  {
   "cell_type": "code",
   "execution_count": 2,
   "metadata": {},
   "outputs": [
    {
     "data": {
      "text/plain": [
       "True"
      ]
     },
     "execution_count": 2,
     "metadata": {},
     "output_type": "execute_result"
    }
   ],
   "source": [
    "# Next it's time to load the API keys into environment variables\n",
    "# If this returns false, see the next cell!\n",
    "\n",
    "load_dotenv(override=True)"
   ]
  },
  {
   "cell_type": "markdown",
   "metadata": {},
   "source": [
    "### Wait, did that just output `False`??\n",
    "\n",
    "If so, the most common reason is that you didn't save your `.env` file after adding the key! Be sure to have saved.\n",
    "\n",
    "Also, make sure the `.env` file is named precisely `.env` and is in the project root directory (`agents`)\n",
    "\n",
    "By the way, your `.env` file should have a stop symbol next to it in Cursor on the left, and that's actually a good thing: that's Cursor saying to you, \"hey, I realize this is a file filled with secret information, and I'm not going to send it to an external AI to suggest changes, because your keys should not be shown to anyone else.\""
   ]
  },
  {
   "cell_type": "markdown",
   "metadata": {},
   "source": [
    "<table style=\"margin: 0; text-align: left; width:100%\">\n",
    "    <tr>\n",
    "        <td style=\"width: 150px; height: 150px; vertical-align: middle;\">\n",
    "            <img src=\"../assets/stop.png\" width=\"150\" height=\"150\" style=\"display: block;\" />\n",
    "        </td>\n",
    "        <td>\n",
    "            <h2 style=\"color:#ff7800;\">Final reminders</h2>\n",
    "            <span style=\"color:#ff7800;\">1. If you're not confident about Environment Variables or Web Endpoints / APIs, please read Topics 3 and 5 in this <a href=\"../guides/04_technical_foundations.ipynb\">technical foundations guide</a>.<br/>\n",
    "            2. If you want to use AIs other than OpenAI, like Gemini, DeepSeek or Ollama (free), please see the first section in this <a href=\"../guides/09_ai_apis_and_ollama.ipynb\">AI APIs guide</a>.<br/>\n",
    "            3. If you ever get a Name Error in Python, you can always fix it immediately; see the last section of this <a href=\"../guides/06_python_foundations.ipynb\">Python Foundations guide</a> and follow both tutorials and exercises.<br/>\n",
    "            </span>\n",
    "        </td>\n",
    "    </tr>\n",
    "</table>"
   ]
  },
  {
   "cell_type": "code",
   "execution_count": 4,
   "metadata": {},
   "outputs": [
    {
     "name": "stdout",
     "output_type": "stream",
     "text": [
      "OpenAI API Key exists and begins AIzaSyAF\n"
     ]
    }
   ],
   "source": [
    "# Check the key - if you're not using OpenAI, check whichever key you're using! Ollama doesn't need a key.\n",
    "\n",
    "import os\n",
    "openai_api_key = os.getenv('GOOGLE_API_KEY')\n",
    "\n",
    "if openai_api_key:\n",
    "    print(f\"OpenAI API Key exists and begins {openai_api_key[:8]}\")\n",
    "else:\n",
    "    print(\"OpenAI API Key not set - please head to the troubleshooting guide in the setup folder\")\n",
    "    \n"
   ]
  },
  {
   "cell_type": "code",
   "execution_count": 5,
   "metadata": {},
   "outputs": [],
   "source": [
    "# And now - the all important import statement\n",
    "# If you get an import error - head over to troubleshooting in the Setup folder\n",
    "# Even for other LLM providers like Gemini, you still use this OpenAI import - see Guide 9 for why\n",
    "\n",
    "from openai import OpenAI"
   ]
  },
  {
   "cell_type": "code",
   "execution_count": 6,
   "metadata": {},
   "outputs": [],
   "source": [
    "# And now we'll create an instance of the OpenAI class\n",
    "# If you're not sure what it means to create an instance of a class - head over to the guides folder (guide 6)!\n",
    "# If you get a NameError - head over to the guides folder (guide 6)to learn about NameErrors - always instantly fixable\n",
    "# If you're not using OpenAI, you just need to slightly modify this - precise instructions are in the AI APIs guide (guide 9)\n",
    "\n",
    "openai = OpenAI()"
   ]
  },
  {
   "cell_type": "code",
   "execution_count": 7,
   "metadata": {},
   "outputs": [],
   "source": [
    "# Create a list of messages in the familiar OpenAI format\n",
    "\n",
    "messages = [{\"role\": \"user\", \"content\": \"What is 2+2?\"}]"
   ]
  },
  {
   "cell_type": "code",
   "execution_count": 9,
   "metadata": {},
   "outputs": [
    {
     "name": "stdout",
     "output_type": "stream",
     "text": [
      "2 + 2 = 4\n"
     ]
    }
   ],
   "source": [
    "import os\n",
    "from openai import OpenAI\n",
    "from dotenv import load_dotenv\n",
    "load_dotenv(override=True)\n",
    "\n",
    "GEMINI_BASE_URL = \"https://generativelanguage.googleapis.com/v1beta/openai/\"\n",
    "google_api_key = os.getenv(\"GOOGLE_API_KEY\")\n",
    "gemini = OpenAI(base_url=GEMINI_BASE_URL, api_key=google_api_key)\n",
    "response = gemini.chat.completions.create(model=\"gemini-2.5-flash-preview-05-20\", messages=[{\"role\":\"user\", \"content\": \"what is 2+2?\"}])\n",
    "print(response.choices[0].message.content)"
   ]
  },
  {
   "cell_type": "code",
   "execution_count": 8,
   "metadata": {},
   "outputs": [
    {
     "ename": "AuthenticationError",
     "evalue": "Error code: 401 - {'error': {'message': 'Incorrect API key provided: sk-proj-*2345. You can find your API key at https://platform.openai.com/account/api-keys.', 'type': 'invalid_request_error', 'param': None, 'code': 'invalid_api_key'}}",
     "output_type": "error",
     "traceback": [
      "\u001b[31m---------------------------------------------------------------------------\u001b[39m",
      "\u001b[31mAuthenticationError\u001b[39m                       Traceback (most recent call last)",
      "\u001b[36mCell\u001b[39m\u001b[36m \u001b[39m\u001b[32mIn[8]\u001b[39m\u001b[32m, line 6\u001b[39m\n\u001b[32m      1\u001b[39m \u001b[38;5;66;03m# And now call it! Any problems, head to the troubleshooting guide\u001b[39;00m\n\u001b[32m      2\u001b[39m \u001b[38;5;66;03m# This uses GPT 4.1 nano, the incredibly cheap model\u001b[39;00m\n\u001b[32m      3\u001b[39m \u001b[38;5;66;03m# The APIs guide (guide 9) has exact instructions for using even cheaper or free alternatives to OpenAI\u001b[39;00m\n\u001b[32m      4\u001b[39m \u001b[38;5;66;03m# If you get a NameError, head to the guides folder (guide 6) to learn about NameErrors - always instantly fixable\u001b[39;00m\n\u001b[32m----> \u001b[39m\u001b[32m6\u001b[39m response = \u001b[43mopenai\u001b[49m\u001b[43m.\u001b[49m\u001b[43mchat\u001b[49m\u001b[43m.\u001b[49m\u001b[43mcompletions\u001b[49m\u001b[43m.\u001b[49m\u001b[43mcreate\u001b[49m\u001b[43m(\u001b[49m\n\u001b[32m      7\u001b[39m \u001b[43m    \u001b[49m\u001b[43mmodel\u001b[49m\u001b[43m=\u001b[49m\u001b[33;43m\"\u001b[39;49m\u001b[33;43mgpt-4.1-nano\u001b[39;49m\u001b[33;43m\"\u001b[39;49m\u001b[43m,\u001b[49m\n\u001b[32m      8\u001b[39m \u001b[43m    \u001b[49m\u001b[43mmessages\u001b[49m\u001b[43m=\u001b[49m\u001b[43mmessages\u001b[49m\n\u001b[32m      9\u001b[39m \u001b[43m)\u001b[49m\n\u001b[32m     11\u001b[39m \u001b[38;5;28mprint\u001b[39m(response.choices[\u001b[32m0\u001b[39m].message.content)\n",
      "\u001b[36mFile \u001b[39m\u001b[32m~/ia-course/agents/.venv/lib/python3.12/site-packages/openai/_utils/_utils.py:287\u001b[39m, in \u001b[36mrequired_args.<locals>.inner.<locals>.wrapper\u001b[39m\u001b[34m(*args, **kwargs)\u001b[39m\n\u001b[32m    285\u001b[39m             msg = \u001b[33mf\u001b[39m\u001b[33m\"\u001b[39m\u001b[33mMissing required argument: \u001b[39m\u001b[38;5;132;01m{\u001b[39;00mquote(missing[\u001b[32m0\u001b[39m])\u001b[38;5;132;01m}\u001b[39;00m\u001b[33m\"\u001b[39m\n\u001b[32m    286\u001b[39m     \u001b[38;5;28;01mraise\u001b[39;00m \u001b[38;5;167;01mTypeError\u001b[39;00m(msg)\n\u001b[32m--> \u001b[39m\u001b[32m287\u001b[39m \u001b[38;5;28;01mreturn\u001b[39;00m \u001b[43mfunc\u001b[49m\u001b[43m(\u001b[49m\u001b[43m*\u001b[49m\u001b[43margs\u001b[49m\u001b[43m,\u001b[49m\u001b[43m \u001b[49m\u001b[43m*\u001b[49m\u001b[43m*\u001b[49m\u001b[43mkwargs\u001b[49m\u001b[43m)\u001b[49m\n",
      "\u001b[36mFile \u001b[39m\u001b[32m~/ia-course/agents/.venv/lib/python3.12/site-packages/openai/resources/chat/completions/completions.py:925\u001b[39m, in \u001b[36mCompletions.create\u001b[39m\u001b[34m(self, messages, model, audio, frequency_penalty, function_call, functions, logit_bias, logprobs, max_completion_tokens, max_tokens, metadata, modalities, n, parallel_tool_calls, prediction, presence_penalty, reasoning_effort, response_format, seed, service_tier, stop, store, stream, stream_options, temperature, tool_choice, tools, top_logprobs, top_p, user, web_search_options, extra_headers, extra_query, extra_body, timeout)\u001b[39m\n\u001b[32m    882\u001b[39m \u001b[38;5;129m@required_args\u001b[39m([\u001b[33m\"\u001b[39m\u001b[33mmessages\u001b[39m\u001b[33m\"\u001b[39m, \u001b[33m\"\u001b[39m\u001b[33mmodel\u001b[39m\u001b[33m\"\u001b[39m], [\u001b[33m\"\u001b[39m\u001b[33mmessages\u001b[39m\u001b[33m\"\u001b[39m, \u001b[33m\"\u001b[39m\u001b[33mmodel\u001b[39m\u001b[33m\"\u001b[39m, \u001b[33m\"\u001b[39m\u001b[33mstream\u001b[39m\u001b[33m\"\u001b[39m])\n\u001b[32m    883\u001b[39m \u001b[38;5;28;01mdef\u001b[39;00m\u001b[38;5;250m \u001b[39m\u001b[34mcreate\u001b[39m(\n\u001b[32m    884\u001b[39m     \u001b[38;5;28mself\u001b[39m,\n\u001b[32m   (...)\u001b[39m\u001b[32m    922\u001b[39m     timeout: \u001b[38;5;28mfloat\u001b[39m | httpx.Timeout | \u001b[38;5;28;01mNone\u001b[39;00m | NotGiven = NOT_GIVEN,\n\u001b[32m    923\u001b[39m ) -> ChatCompletion | Stream[ChatCompletionChunk]:\n\u001b[32m    924\u001b[39m     validate_response_format(response_format)\n\u001b[32m--> \u001b[39m\u001b[32m925\u001b[39m     \u001b[38;5;28;01mreturn\u001b[39;00m \u001b[38;5;28;43mself\u001b[39;49m\u001b[43m.\u001b[49m\u001b[43m_post\u001b[49m\u001b[43m(\u001b[49m\n\u001b[32m    926\u001b[39m \u001b[43m        \u001b[49m\u001b[33;43m\"\u001b[39;49m\u001b[33;43m/chat/completions\u001b[39;49m\u001b[33;43m\"\u001b[39;49m\u001b[43m,\u001b[49m\n\u001b[32m    927\u001b[39m \u001b[43m        \u001b[49m\u001b[43mbody\u001b[49m\u001b[43m=\u001b[49m\u001b[43mmaybe_transform\u001b[49m\u001b[43m(\u001b[49m\n\u001b[32m    928\u001b[39m \u001b[43m            \u001b[49m\u001b[43m{\u001b[49m\n\u001b[32m    929\u001b[39m \u001b[43m                \u001b[49m\u001b[33;43m\"\u001b[39;49m\u001b[33;43mmessages\u001b[39;49m\u001b[33;43m\"\u001b[39;49m\u001b[43m:\u001b[49m\u001b[43m \u001b[49m\u001b[43mmessages\u001b[49m\u001b[43m,\u001b[49m\n\u001b[32m    930\u001b[39m \u001b[43m                \u001b[49m\u001b[33;43m\"\u001b[39;49m\u001b[33;43mmodel\u001b[39;49m\u001b[33;43m\"\u001b[39;49m\u001b[43m:\u001b[49m\u001b[43m \u001b[49m\u001b[43mmodel\u001b[49m\u001b[43m,\u001b[49m\n\u001b[32m    931\u001b[39m \u001b[43m                \u001b[49m\u001b[33;43m\"\u001b[39;49m\u001b[33;43maudio\u001b[39;49m\u001b[33;43m\"\u001b[39;49m\u001b[43m:\u001b[49m\u001b[43m \u001b[49m\u001b[43maudio\u001b[49m\u001b[43m,\u001b[49m\n\u001b[32m    932\u001b[39m \u001b[43m                \u001b[49m\u001b[33;43m\"\u001b[39;49m\u001b[33;43mfrequency_penalty\u001b[39;49m\u001b[33;43m\"\u001b[39;49m\u001b[43m:\u001b[49m\u001b[43m \u001b[49m\u001b[43mfrequency_penalty\u001b[49m\u001b[43m,\u001b[49m\n\u001b[32m    933\u001b[39m \u001b[43m                \u001b[49m\u001b[33;43m\"\u001b[39;49m\u001b[33;43mfunction_call\u001b[39;49m\u001b[33;43m\"\u001b[39;49m\u001b[43m:\u001b[49m\u001b[43m \u001b[49m\u001b[43mfunction_call\u001b[49m\u001b[43m,\u001b[49m\n\u001b[32m    934\u001b[39m \u001b[43m                \u001b[49m\u001b[33;43m\"\u001b[39;49m\u001b[33;43mfunctions\u001b[39;49m\u001b[33;43m\"\u001b[39;49m\u001b[43m:\u001b[49m\u001b[43m \u001b[49m\u001b[43mfunctions\u001b[49m\u001b[43m,\u001b[49m\n\u001b[32m    935\u001b[39m \u001b[43m                \u001b[49m\u001b[33;43m\"\u001b[39;49m\u001b[33;43mlogit_bias\u001b[39;49m\u001b[33;43m\"\u001b[39;49m\u001b[43m:\u001b[49m\u001b[43m \u001b[49m\u001b[43mlogit_bias\u001b[49m\u001b[43m,\u001b[49m\n\u001b[32m    936\u001b[39m \u001b[43m                \u001b[49m\u001b[33;43m\"\u001b[39;49m\u001b[33;43mlogprobs\u001b[39;49m\u001b[33;43m\"\u001b[39;49m\u001b[43m:\u001b[49m\u001b[43m \u001b[49m\u001b[43mlogprobs\u001b[49m\u001b[43m,\u001b[49m\n\u001b[32m    937\u001b[39m \u001b[43m                \u001b[49m\u001b[33;43m\"\u001b[39;49m\u001b[33;43mmax_completion_tokens\u001b[39;49m\u001b[33;43m\"\u001b[39;49m\u001b[43m:\u001b[49m\u001b[43m \u001b[49m\u001b[43mmax_completion_tokens\u001b[49m\u001b[43m,\u001b[49m\n\u001b[32m    938\u001b[39m \u001b[43m                \u001b[49m\u001b[33;43m\"\u001b[39;49m\u001b[33;43mmax_tokens\u001b[39;49m\u001b[33;43m\"\u001b[39;49m\u001b[43m:\u001b[49m\u001b[43m \u001b[49m\u001b[43mmax_tokens\u001b[49m\u001b[43m,\u001b[49m\n\u001b[32m    939\u001b[39m \u001b[43m                \u001b[49m\u001b[33;43m\"\u001b[39;49m\u001b[33;43mmetadata\u001b[39;49m\u001b[33;43m\"\u001b[39;49m\u001b[43m:\u001b[49m\u001b[43m \u001b[49m\u001b[43mmetadata\u001b[49m\u001b[43m,\u001b[49m\n\u001b[32m    940\u001b[39m \u001b[43m                \u001b[49m\u001b[33;43m\"\u001b[39;49m\u001b[33;43mmodalities\u001b[39;49m\u001b[33;43m\"\u001b[39;49m\u001b[43m:\u001b[49m\u001b[43m \u001b[49m\u001b[43mmodalities\u001b[49m\u001b[43m,\u001b[49m\n\u001b[32m    941\u001b[39m \u001b[43m                \u001b[49m\u001b[33;43m\"\u001b[39;49m\u001b[33;43mn\u001b[39;49m\u001b[33;43m\"\u001b[39;49m\u001b[43m:\u001b[49m\u001b[43m \u001b[49m\u001b[43mn\u001b[49m\u001b[43m,\u001b[49m\n\u001b[32m    942\u001b[39m \u001b[43m                \u001b[49m\u001b[33;43m\"\u001b[39;49m\u001b[33;43mparallel_tool_calls\u001b[39;49m\u001b[33;43m\"\u001b[39;49m\u001b[43m:\u001b[49m\u001b[43m \u001b[49m\u001b[43mparallel_tool_calls\u001b[49m\u001b[43m,\u001b[49m\n\u001b[32m    943\u001b[39m \u001b[43m                \u001b[49m\u001b[33;43m\"\u001b[39;49m\u001b[33;43mprediction\u001b[39;49m\u001b[33;43m\"\u001b[39;49m\u001b[43m:\u001b[49m\u001b[43m \u001b[49m\u001b[43mprediction\u001b[49m\u001b[43m,\u001b[49m\n\u001b[32m    944\u001b[39m \u001b[43m                \u001b[49m\u001b[33;43m\"\u001b[39;49m\u001b[33;43mpresence_penalty\u001b[39;49m\u001b[33;43m\"\u001b[39;49m\u001b[43m:\u001b[49m\u001b[43m \u001b[49m\u001b[43mpresence_penalty\u001b[49m\u001b[43m,\u001b[49m\n\u001b[32m    945\u001b[39m \u001b[43m                \u001b[49m\u001b[33;43m\"\u001b[39;49m\u001b[33;43mreasoning_effort\u001b[39;49m\u001b[33;43m\"\u001b[39;49m\u001b[43m:\u001b[49m\u001b[43m \u001b[49m\u001b[43mreasoning_effort\u001b[49m\u001b[43m,\u001b[49m\n\u001b[32m    946\u001b[39m \u001b[43m                \u001b[49m\u001b[33;43m\"\u001b[39;49m\u001b[33;43mresponse_format\u001b[39;49m\u001b[33;43m\"\u001b[39;49m\u001b[43m:\u001b[49m\u001b[43m \u001b[49m\u001b[43mresponse_format\u001b[49m\u001b[43m,\u001b[49m\n\u001b[32m    947\u001b[39m \u001b[43m                \u001b[49m\u001b[33;43m\"\u001b[39;49m\u001b[33;43mseed\u001b[39;49m\u001b[33;43m\"\u001b[39;49m\u001b[43m:\u001b[49m\u001b[43m \u001b[49m\u001b[43mseed\u001b[49m\u001b[43m,\u001b[49m\n\u001b[32m    948\u001b[39m \u001b[43m                \u001b[49m\u001b[33;43m\"\u001b[39;49m\u001b[33;43mservice_tier\u001b[39;49m\u001b[33;43m\"\u001b[39;49m\u001b[43m:\u001b[49m\u001b[43m \u001b[49m\u001b[43mservice_tier\u001b[49m\u001b[43m,\u001b[49m\n\u001b[32m    949\u001b[39m \u001b[43m                \u001b[49m\u001b[33;43m\"\u001b[39;49m\u001b[33;43mstop\u001b[39;49m\u001b[33;43m\"\u001b[39;49m\u001b[43m:\u001b[49m\u001b[43m \u001b[49m\u001b[43mstop\u001b[49m\u001b[43m,\u001b[49m\n\u001b[32m    950\u001b[39m \u001b[43m                \u001b[49m\u001b[33;43m\"\u001b[39;49m\u001b[33;43mstore\u001b[39;49m\u001b[33;43m\"\u001b[39;49m\u001b[43m:\u001b[49m\u001b[43m \u001b[49m\u001b[43mstore\u001b[49m\u001b[43m,\u001b[49m\n\u001b[32m    951\u001b[39m \u001b[43m                \u001b[49m\u001b[33;43m\"\u001b[39;49m\u001b[33;43mstream\u001b[39;49m\u001b[33;43m\"\u001b[39;49m\u001b[43m:\u001b[49m\u001b[43m \u001b[49m\u001b[43mstream\u001b[49m\u001b[43m,\u001b[49m\n\u001b[32m    952\u001b[39m \u001b[43m                \u001b[49m\u001b[33;43m\"\u001b[39;49m\u001b[33;43mstream_options\u001b[39;49m\u001b[33;43m\"\u001b[39;49m\u001b[43m:\u001b[49m\u001b[43m \u001b[49m\u001b[43mstream_options\u001b[49m\u001b[43m,\u001b[49m\n\u001b[32m    953\u001b[39m \u001b[43m                \u001b[49m\u001b[33;43m\"\u001b[39;49m\u001b[33;43mtemperature\u001b[39;49m\u001b[33;43m\"\u001b[39;49m\u001b[43m:\u001b[49m\u001b[43m \u001b[49m\u001b[43mtemperature\u001b[49m\u001b[43m,\u001b[49m\n\u001b[32m    954\u001b[39m \u001b[43m                \u001b[49m\u001b[33;43m\"\u001b[39;49m\u001b[33;43mtool_choice\u001b[39;49m\u001b[33;43m\"\u001b[39;49m\u001b[43m:\u001b[49m\u001b[43m \u001b[49m\u001b[43mtool_choice\u001b[49m\u001b[43m,\u001b[49m\n\u001b[32m    955\u001b[39m \u001b[43m                \u001b[49m\u001b[33;43m\"\u001b[39;49m\u001b[33;43mtools\u001b[39;49m\u001b[33;43m\"\u001b[39;49m\u001b[43m:\u001b[49m\u001b[43m \u001b[49m\u001b[43mtools\u001b[49m\u001b[43m,\u001b[49m\n\u001b[32m    956\u001b[39m \u001b[43m                \u001b[49m\u001b[33;43m\"\u001b[39;49m\u001b[33;43mtop_logprobs\u001b[39;49m\u001b[33;43m\"\u001b[39;49m\u001b[43m:\u001b[49m\u001b[43m \u001b[49m\u001b[43mtop_logprobs\u001b[49m\u001b[43m,\u001b[49m\n\u001b[32m    957\u001b[39m \u001b[43m                \u001b[49m\u001b[33;43m\"\u001b[39;49m\u001b[33;43mtop_p\u001b[39;49m\u001b[33;43m\"\u001b[39;49m\u001b[43m:\u001b[49m\u001b[43m \u001b[49m\u001b[43mtop_p\u001b[49m\u001b[43m,\u001b[49m\n\u001b[32m    958\u001b[39m \u001b[43m                \u001b[49m\u001b[33;43m\"\u001b[39;49m\u001b[33;43muser\u001b[39;49m\u001b[33;43m\"\u001b[39;49m\u001b[43m:\u001b[49m\u001b[43m \u001b[49m\u001b[43muser\u001b[49m\u001b[43m,\u001b[49m\n\u001b[32m    959\u001b[39m \u001b[43m                \u001b[49m\u001b[33;43m\"\u001b[39;49m\u001b[33;43mweb_search_options\u001b[39;49m\u001b[33;43m\"\u001b[39;49m\u001b[43m:\u001b[49m\u001b[43m \u001b[49m\u001b[43mweb_search_options\u001b[49m\u001b[43m,\u001b[49m\n\u001b[32m    960\u001b[39m \u001b[43m            \u001b[49m\u001b[43m}\u001b[49m\u001b[43m,\u001b[49m\n\u001b[32m    961\u001b[39m \u001b[43m            \u001b[49m\u001b[43mcompletion_create_params\u001b[49m\u001b[43m.\u001b[49m\u001b[43mCompletionCreateParamsStreaming\u001b[49m\n\u001b[32m    962\u001b[39m \u001b[43m            \u001b[49m\u001b[38;5;28;43;01mif\u001b[39;49;00m\u001b[43m \u001b[49m\u001b[43mstream\u001b[49m\n\u001b[32m    963\u001b[39m \u001b[43m            \u001b[49m\u001b[38;5;28;43;01melse\u001b[39;49;00m\u001b[43m \u001b[49m\u001b[43mcompletion_create_params\u001b[49m\u001b[43m.\u001b[49m\u001b[43mCompletionCreateParamsNonStreaming\u001b[49m\u001b[43m,\u001b[49m\n\u001b[32m    964\u001b[39m \u001b[43m        \u001b[49m\u001b[43m)\u001b[49m\u001b[43m,\u001b[49m\n\u001b[32m    965\u001b[39m \u001b[43m        \u001b[49m\u001b[43moptions\u001b[49m\u001b[43m=\u001b[49m\u001b[43mmake_request_options\u001b[49m\u001b[43m(\u001b[49m\n\u001b[32m    966\u001b[39m \u001b[43m            \u001b[49m\u001b[43mextra_headers\u001b[49m\u001b[43m=\u001b[49m\u001b[43mextra_headers\u001b[49m\u001b[43m,\u001b[49m\u001b[43m \u001b[49m\u001b[43mextra_query\u001b[49m\u001b[43m=\u001b[49m\u001b[43mextra_query\u001b[49m\u001b[43m,\u001b[49m\u001b[43m \u001b[49m\u001b[43mextra_body\u001b[49m\u001b[43m=\u001b[49m\u001b[43mextra_body\u001b[49m\u001b[43m,\u001b[49m\u001b[43m \u001b[49m\u001b[43mtimeout\u001b[49m\u001b[43m=\u001b[49m\u001b[43mtimeout\u001b[49m\n\u001b[32m    967\u001b[39m \u001b[43m        \u001b[49m\u001b[43m)\u001b[49m\u001b[43m,\u001b[49m\n\u001b[32m    968\u001b[39m \u001b[43m        \u001b[49m\u001b[43mcast_to\u001b[49m\u001b[43m=\u001b[49m\u001b[43mChatCompletion\u001b[49m\u001b[43m,\u001b[49m\n\u001b[32m    969\u001b[39m \u001b[43m        \u001b[49m\u001b[43mstream\u001b[49m\u001b[43m=\u001b[49m\u001b[43mstream\u001b[49m\u001b[43m \u001b[49m\u001b[38;5;129;43;01mor\u001b[39;49;00m\u001b[43m \u001b[49m\u001b[38;5;28;43;01mFalse\u001b[39;49;00m\u001b[43m,\u001b[49m\n\u001b[32m    970\u001b[39m \u001b[43m        \u001b[49m\u001b[43mstream_cls\u001b[49m\u001b[43m=\u001b[49m\u001b[43mStream\u001b[49m\u001b[43m[\u001b[49m\u001b[43mChatCompletionChunk\u001b[49m\u001b[43m]\u001b[49m\u001b[43m,\u001b[49m\n\u001b[32m    971\u001b[39m \u001b[43m    \u001b[49m\u001b[43m)\u001b[49m\n",
      "\u001b[36mFile \u001b[39m\u001b[32m~/ia-course/agents/.venv/lib/python3.12/site-packages/openai/_base_client.py:1249\u001b[39m, in \u001b[36mSyncAPIClient.post\u001b[39m\u001b[34m(self, path, cast_to, body, options, files, stream, stream_cls)\u001b[39m\n\u001b[32m   1235\u001b[39m \u001b[38;5;28;01mdef\u001b[39;00m\u001b[38;5;250m \u001b[39m\u001b[34mpost\u001b[39m(\n\u001b[32m   1236\u001b[39m     \u001b[38;5;28mself\u001b[39m,\n\u001b[32m   1237\u001b[39m     path: \u001b[38;5;28mstr\u001b[39m,\n\u001b[32m   (...)\u001b[39m\u001b[32m   1244\u001b[39m     stream_cls: \u001b[38;5;28mtype\u001b[39m[_StreamT] | \u001b[38;5;28;01mNone\u001b[39;00m = \u001b[38;5;28;01mNone\u001b[39;00m,\n\u001b[32m   1245\u001b[39m ) -> ResponseT | _StreamT:\n\u001b[32m   1246\u001b[39m     opts = FinalRequestOptions.construct(\n\u001b[32m   1247\u001b[39m         method=\u001b[33m\"\u001b[39m\u001b[33mpost\u001b[39m\u001b[33m\"\u001b[39m, url=path, json_data=body, files=to_httpx_files(files), **options\n\u001b[32m   1248\u001b[39m     )\n\u001b[32m-> \u001b[39m\u001b[32m1249\u001b[39m     \u001b[38;5;28;01mreturn\u001b[39;00m cast(ResponseT, \u001b[38;5;28;43mself\u001b[39;49m\u001b[43m.\u001b[49m\u001b[43mrequest\u001b[49m\u001b[43m(\u001b[49m\u001b[43mcast_to\u001b[49m\u001b[43m,\u001b[49m\u001b[43m \u001b[49m\u001b[43mopts\u001b[49m\u001b[43m,\u001b[49m\u001b[43m \u001b[49m\u001b[43mstream\u001b[49m\u001b[43m=\u001b[49m\u001b[43mstream\u001b[49m\u001b[43m,\u001b[49m\u001b[43m \u001b[49m\u001b[43mstream_cls\u001b[49m\u001b[43m=\u001b[49m\u001b[43mstream_cls\u001b[49m\u001b[43m)\u001b[49m)\n",
      "\u001b[36mFile \u001b[39m\u001b[32m~/ia-course/agents/.venv/lib/python3.12/site-packages/openai/_base_client.py:1037\u001b[39m, in \u001b[36mSyncAPIClient.request\u001b[39m\u001b[34m(self, cast_to, options, stream, stream_cls)\u001b[39m\n\u001b[32m   1034\u001b[39m             err.response.read()\n\u001b[32m   1036\u001b[39m         log.debug(\u001b[33m\"\u001b[39m\u001b[33mRe-raising status error\u001b[39m\u001b[33m\"\u001b[39m)\n\u001b[32m-> \u001b[39m\u001b[32m1037\u001b[39m         \u001b[38;5;28;01mraise\u001b[39;00m \u001b[38;5;28mself\u001b[39m._make_status_error_from_response(err.response) \u001b[38;5;28;01mfrom\u001b[39;00m\u001b[38;5;250m \u001b[39m\u001b[38;5;28;01mNone\u001b[39;00m\n\u001b[32m   1039\u001b[39m     \u001b[38;5;28;01mbreak\u001b[39;00m\n\u001b[32m   1041\u001b[39m \u001b[38;5;28;01massert\u001b[39;00m response \u001b[38;5;129;01mis\u001b[39;00m \u001b[38;5;129;01mnot\u001b[39;00m \u001b[38;5;28;01mNone\u001b[39;00m, \u001b[33m\"\u001b[39m\u001b[33mcould not resolve response (should never happen)\u001b[39m\u001b[33m\"\u001b[39m\n",
      "\u001b[31mAuthenticationError\u001b[39m: Error code: 401 - {'error': {'message': 'Incorrect API key provided: sk-proj-*2345. You can find your API key at https://platform.openai.com/account/api-keys.', 'type': 'invalid_request_error', 'param': None, 'code': 'invalid_api_key'}}"
     ]
    }
   ],
   "source": [
    "# And now call it! Any problems, head to the troubleshooting guide\n",
    "# This uses GPT 4.1 nano, the incredibly cheap model\n",
    "# The APIs guide (guide 9) has exact instructions for using even cheaper or free alternatives to OpenAI\n",
    "# If you get a NameError, head to the guides folder (guide 6) to learn about NameErrors - always instantly fixable\n",
    "\n",
    "response = openai.chat.completions.create(\n",
    "    model=\"gpt-4.1-nano\",\n",
    "    messages=messages\n",
    ")\n",
    "\n",
    "print(response.choices[0].message.content)\n"
   ]
  },
  {
   "cell_type": "code",
   "execution_count": 10,
   "metadata": {},
   "outputs": [],
   "source": [
    "# And now - let's ask for a question:\n",
    "\n",
    "question = \"Please propose a hard, challenging question to assess someone's IQ. Respond only with the question.\"\n",
    "messages = [{\"role\": \"user\", \"content\": question}]\n"
   ]
  },
  {
   "cell_type": "code",
   "execution_count": null,
   "metadata": {},
   "outputs": [
    {
     "name": "stdout",
     "output_type": "stream",
     "text": [
      "Identify the missing number:\n",
      "\n",
      "3   6   10   15\n",
      "2   4   7    11\n",
      "5   10  16   ?\n",
      "4   8   13   19\n"
     ]
    }
   ],
   "source": [
    "# Ask it - Gemini\n",
    "response = gemini.chat.completions.create(model=\"gemini-2.5-flash-preview-05-20\", messages=messages)\n",
    "question = response.choices[0].message.content\n",
    "\n",
    "print(question)"
   ]
  },
  {
   "cell_type": "code",
   "execution_count": null,
   "metadata": {},
   "outputs": [],
   "source": [
    "# ask it - this uses GPT 4.1 mini, still cheap but more powerful than nano\n",
    "\n",
    "response = openai.chat.completions.create(\n",
    "    model=\"gpt-4.1-mini\",\n",
    "    messages=messages\n",
    ")\n",
    "\n",
    "question = response.choices[0].message.content\n",
    "\n",
    "print(question)\n"
   ]
  },
  {
   "cell_type": "code",
   "execution_count": 13,
   "metadata": {},
   "outputs": [],
   "source": [
    "# form a new messages list\n",
    "messages = [{\"role\": \"user\", \"content\": question}]\n"
   ]
  },
  {
   "cell_type": "code",
   "execution_count": 14,
   "metadata": {},
   "outputs": [
    {
     "name": "stdout",
     "output_type": "stream",
     "text": [
      "Let's analyze the pattern in each row:\n",
      "\n",
      "**Row 1:** 3, 6, 10, 15\n",
      "*   6 - 3 = 3\n",
      "*   10 - 6 = 4\n",
      "*   15 - 10 = 5\n",
      "*   The difference increases by 1 each time (+3, +4, +5).\n",
      "\n",
      "**Row 2:** 2, 4, 7, 11\n",
      "*   4 - 2 = 2\n",
      "*   7 - 4 = 3\n",
      "*   11 - 7 = 4\n",
      "*   The difference increases by 1 each time (+2, +3, +4).\n",
      "\n",
      "**Row 4:** 4, 8, 13, 19\n",
      "*   8 - 4 = 4\n",
      "*   13 - 8 = 5\n",
      "*   19 - 13 = 6\n",
      "*   The difference increases by 1 each time (+4, +5, +6).\n",
      "\n",
      "It's clear that in every row, the difference between consecutive numbers increases by 1. Let's apply this to Row 3:\n",
      "\n",
      "**Row 3:** 5, 10, 16, ?\n",
      "*   10 - 5 = 5 (First difference)\n",
      "*   16 - 10 = 6 (Second difference)\n",
      "*   Following the pattern, the next difference should be 6 + 1 = 7.\n",
      "\n",
      "So, the missing number is 16 + 7 = **23**.\n",
      "\n",
      "The missing number is **23**.\n"
     ]
    }
   ],
   "source": [
    "# Ask it again - Gemini\n",
    "response = gemini.chat.completions.create(model=\"gemini-2.5-flash-preview-05-20\", messages=messages)\n",
    "answer = response.choices[0].message.content\n",
    "print(answer)"
   ]
  },
  {
   "cell_type": "code",
   "execution_count": null,
   "metadata": {},
   "outputs": [],
   "source": [
    "# Ask it again\n",
    "\n",
    "response = openai.chat.completions.create(\n",
    "    model=\"gpt-4.1-mini\",\n",
    "    messages=messages\n",
    ")\n",
    "\n",
    "answer = response.choices[0].message.content\n",
    "print(answer)\n"
   ]
  },
  {
   "cell_type": "code",
   "execution_count": 15,
   "metadata": {},
   "outputs": [
    {
     "data": {
      "text/markdown": [
       "Let's analyze the pattern in each row:\n",
       "\n",
       "**Row 1:** 3, 6, 10, 15\n",
       "*   6 - 3 = 3\n",
       "*   10 - 6 = 4\n",
       "*   15 - 10 = 5\n",
       "*   The difference increases by 1 each time (+3, +4, +5).\n",
       "\n",
       "**Row 2:** 2, 4, 7, 11\n",
       "*   4 - 2 = 2\n",
       "*   7 - 4 = 3\n",
       "*   11 - 7 = 4\n",
       "*   The difference increases by 1 each time (+2, +3, +4).\n",
       "\n",
       "**Row 4:** 4, 8, 13, 19\n",
       "*   8 - 4 = 4\n",
       "*   13 - 8 = 5\n",
       "*   19 - 13 = 6\n",
       "*   The difference increases by 1 each time (+4, +5, +6).\n",
       "\n",
       "It's clear that in every row, the difference between consecutive numbers increases by 1. Let's apply this to Row 3:\n",
       "\n",
       "**Row 3:** 5, 10, 16, ?\n",
       "*   10 - 5 = 5 (First difference)\n",
       "*   16 - 10 = 6 (Second difference)\n",
       "*   Following the pattern, the next difference should be 6 + 1 = 7.\n",
       "\n",
       "So, the missing number is 16 + 7 = **23**.\n",
       "\n",
       "The missing number is **23**."
      ],
      "text/plain": [
       "<IPython.core.display.Markdown object>"
      ]
     },
     "metadata": {},
     "output_type": "display_data"
    }
   ],
   "source": [
    "from IPython.display import Markdown, display\n",
    "\n",
    "display(Markdown(answer))\n",
    "\n"
   ]
  },
  {
   "cell_type": "markdown",
   "metadata": {},
   "source": [
    "# Congratulations!\n",
    "\n",
    "That was a small, simple step in the direction of Agentic AI, with your new environment!\n",
    "\n",
    "Next time things get more interesting..."
   ]
  },
  {
   "cell_type": "markdown",
   "metadata": {},
   "source": [
    "<table style=\"margin: 0; text-align: left; width:100%\">\n",
    "    <tr>\n",
    "        <td style=\"width: 150px; height: 150px; vertical-align: middle;\">\n",
    "            <img src=\"../assets/exercise.png\" width=\"150\" height=\"150\" style=\"display: block;\" />\n",
    "        </td>\n",
    "        <td>\n",
    "            <h2 style=\"color:#ff7800;\">Exercise</h2>\n",
    "            <span style=\"color:#ff7800;\">Now try this commercial application:<br/>\n",
    "            First ask the LLM to pick a business area that might be worth exploring for an Agentic AI opportunity.<br/>\n",
    "            Then ask the LLM to present a pain-point in that industry - something challenging that might be ripe for an Agentic solution.<br/>\n",
    "            Finally have 3 third LLM call propose the Agentic AI solution. <br/>\n",
    "            We will cover this at up-coming labs, so don't worry if you're unsure.. just give it a try!\n",
    "            </span>\n",
    "        </td>\n",
    "    </tr>\n",
    "</table>"
   ]
  },
  {
   "cell_type": "code",
   "execution_count": 16,
   "metadata": {},
   "outputs": [
    {
     "data": {
      "text/markdown": [
       "The business area ripe for an Agentic AI opportunity is **Personalized Education and Skill Development (Lifelong Learning Agent)**.\n",
       "\n",
       "Here's why:\n",
       "\n",
       "1.  **The Core Problem:**\n",
       "    *   **One-size-fits-all education:** Traditional systems struggle to adapt to individual learning styles, paces, existing knowledge, and career goals.\n",
       "    *   **Skill Gaps & Obsolescence:** The pace of change in industries means skills quickly become outdated, requiring continuous reskilling and upskilling. People are overwhelmed by the sheer volume of learning resources and don't know where to start or what's most relevant.\n",
       "    *   **Lack of Personal Guidance:** Career counselors are expensive and not always up-to-date. Learners often lack a personalized \"roadmap\" for their professional growth.\n",
       "    *   **Motivation & Accountability:** It's hard for individuals to stay disciplined and motivated in self-directed learning paths.\n",
       "\n",
       "2.  **How Agentic AI Addresses It (The \"Agentic\" Aspect):**\n",
       "\n",
       "    An Agentic AI in this space would act as a **personal, proactive, and adaptive lifelong learning coach and career navigator.**\n",
       "\n",
       "    *   **Goal Setting & Interpretation:** The AI would actively engage with the user to understand their deep-seated career aspirations, existing skill set, learning preferences (visual, auditory, kinesthetic), time availability, and current knowledge gaps. It wouldn't just follow explicit instructions but infer underlying goals.\n",
       "    *   **Dynamic Learning Path Generation:** Based on interpreted goals, the agent would autonomously design a highly personalized, flexible, and evolving curriculum. This isn't just recommending courses; it's a multi-modal, multi-resource journey.\n",
       "    *   **Resource Curation & Integration:** The agent would scour the internet (courses, MOOCs, articles, videos, interactive simulations, projects, open-source contributions, mentorship networks, job postings) and integrate these diverse resources into a cohesive learning flow. It would prioritize based on relevance, quality, and the user's learning style.\n",
       "    *   **Adaptive Tutoring & Feedback:** As the user learns, the agent would monitor their progress, assess understanding (through quizzes, project evaluations, real-world application), identify areas of struggle, and adapt the learning path in real-time. It could generate custom exercises, provide targeted explanations, and even simulate real-world scenarios.\n",
       "    *   **Proactive Skill Gap Identification:** By continuously analyzing the job market (e.g., LinkedIn, job boards, industry reports) and the user's progress, the agent would proactively identify emerging skills relevant to the user's career path and suggest integrating them into the learning journey *before* they become critical gaps.\n",
       "    *   **Motivation & Accountability:** The agent would act as a personalized motivator, sending reminders, celebrating milestones, connecting users with peer groups, and even simulating accountability partners.\n",
       "    *   **Career Navigation & Opportunities:** Beyond just learning, the agent would proactively suggest relevant certifications, networking opportunities, potential job roles, and even help tailor resumes and cover letters based on the acquired skills and target positions.\n",
       "    *   **Tool Orchestration:** It could integrate with coding environments, design tools, project management software, and even schedule virtual mentorship sessions.\n",
       "\n",
       "3.  **Why It's Worth Exploring:**\n",
       "\n",
       "    *   **Massive Market:** Encompasses K-12, higher education, corporate training, reskilling initiatives, and individual lifelong learners.\n",
       "    *   **High Value Proposition:** Addresses a fundamental human need for growth, competence, and economic security. It democratizes access to highly personalized, effective learning.\n",
       "    *   **Scalability:** Once developed, an agentic system can serve millions of users with truly individualized experiences, something human educators cannot achieve at scale.\n",
       "    *   **Leverages AI Strengths:** Ideal for AI's capabilities in data analysis, pattern recognition, content generation, natural language processing, and complex decision-making over time.\n",
       "    *   **Economic Impact:** Could significantly boost workforce productivity, enable seamless career transitions, and help individuals adapt to future job markets.\n",
       "\n",
       "4.  **Potential Business Models:**\n",
       "    *   **Subscription Model:** Tiered subscriptions for individuals (basic, premium with live mentor access, project feedback).\n",
       "    *   **B2B for Corporate Training:** Customizable agents for corporate upskilling and reskilling programs.\n",
       "    *   **Commission/Affiliate:** Partnering with course providers (Coursera, edX, Udemy) for a share of revenue when users enroll through the agent's recommendation.\n",
       "    *   **Outcome-Based:** Potentially a revenue share model if the agent helps secure a higher-paying job or certification.\n",
       "\n",
       "This area represents a profound shift from content delivery to personalized, adaptive, and goal-oriented learning orchestration, perfectly aligning with the capabilities of agentic AI."
      ],
      "text/plain": [
       "<IPython.core.display.Markdown object>"
      ]
     },
     "metadata": {},
     "output_type": "display_data"
    },
    {
     "data": {
      "text/markdown": [
       "The overarching pain-point ripe for an Agentic AI solution in Personalized Education and Skill Development is:\n",
       "\n",
       "**The critical absence of a proactive, personalized, and adaptive navigator for an individual's continuous learning and career evolution in a rapidly changing world.**\n",
       "\n",
       "This pain point consolidates your excellent observations into a singular, acute need:\n",
       "\n",
       "*   **Proactive:** Directly addresses the issue of **skill gaps & obsolescence**, where individuals struggle to anticipate future needs or find relevant resources before becoming outdated. Current systems are reactive; an agent needs to foresee.\n",
       "*   **Personalized:** Confronts the problem of **one-size-fits-all education** and the **lack of personal guidance**, highlighting that current learning paths rarely align with individual styles, goals, or existing knowledge.\n",
       "*   **Adaptive:** Emphasizes the static nature of most learning journeys, which fail to evolve with the learner's progress, market changes, or new opportunities. This also links to the challenge of **motivation & accountability** as rigid paths often lead to disengagement.\n",
       "*   **Navigator:** Captures the feeling of being overwhelmed by the sheer volume of resources and the lack of a clear \"roadmap,\" addressing the **fragmentation** and **disjointedness** of available learning options.\n",
       "\n",
       "In essence, individuals are adrift in a sea of learning resources and career possibilities without a dedicated, intelligent entity to chart their unique course, keep them on track, and adapt to the ever-shifting landscape."
      ],
      "text/plain": [
       "<IPython.core.display.Markdown object>"
      ]
     },
     "metadata": {},
     "output_type": "display_data"
    },
    {
     "data": {
      "text/markdown": [
       "The overarching pain point you've identified is profound and perfectly suited for an Agentic AI solution. Let's call this solution:\n",
       "\n",
       "---\n",
       "\n",
       "## The Adaptive Growth & Evolution (AGE) Agent\n",
       "\n",
       "### 1. Core Promise:\n",
       "\n",
       "The **Adaptive Growth & Evolution (AGE) Agent** is an always-on, intelligent companion that proactively, personally, and adaptively guides individuals through their entire learning and career journey, acting as a dedicated navigator in the continuously shifting landscape of skills and opportunities. It eliminates the feeling of being adrift by charting a dynamic, optimized course for lifelong learning and professional ascendancy.\n",
       "\n",
       "### 2. Addressing the Overarching Pain Point (Direct Mapping):\n",
       "\n",
       "The AGE Agent directly resolves **\"The critical absence of a proactive, personalized, and adaptive navigator for an individual's continuous learning and career evolution in a rapidly changing world\"** by embodying each of its core tenets:\n",
       "\n",
       "*   **Proactive:**\n",
       "    *   **Skill Gap Anticipation:** Continuously scans global job markets, industry trends, and technological advancements to predict future skill demands and identify potential obsolescence *before* it impacts the user.\n",
       "    *   **Opportunity Foresight:** Suggests emerging career paths, certifications, or niche skills that could provide a competitive edge, prompting the user to prepare well in advance.\n",
       "    *   **Early Intervention:** Detects potential motivation dips or learning plateaus and intervenes with tailored encouragement, alternative resources, or adjusted learning strategies.\n",
       "\n",
       "*   **Personalized:**\n",
       "    *   **Deep User Profile:** Builds and constantly refines a comprehensive understanding of the user's existing skills, knowledge gaps, learning styles (visual, auditory, kinesthetic, social), cognitive biases, motivations, time availability, career aspirations, and even personality traits.\n",
       "    *   **Customized Pathways:** Generates truly unique learning journeys that integrate a multitude of resource types, paces, and sequences perfectly aligned with the individual's current state and desired future.\n",
       "    *   **Tailored Interactions:** Communicates in a style that resonates with the user, providing feedback, explanations, and encouragement in a personally optimized manner.\n",
       "\n",
       "*   **Adaptive:**\n",
       "    *   **Dynamic Learning Path Adjustments:** Learns from the user's progress, performance, and feedback, autonomously modifying the learning path in real-time. If a concept is grasped quickly, it accelerates; if there's struggle, it provides alternative explanations, supplementary resources, or different teaching methodologies.\n",
       "    *   **Market-Responsive Evolution:** Automatically revises career recommendations and skill development priorities based on real-time changes in the job market, new technologies, or shifts in the user's expressed interests.\n",
       "    *   **Behavioral Adaptation:** Adjusts its motivational strategies, reminder frequencies, and content delivery based on observed user engagement patterns and historical success metrics.\n",
       "\n",
       "*   **Navigator:**\n",
       "    *   **Comprehensive Roadmap:** Provides a clear, intuitive, and interactive roadmap from the user's current state to their desired career goals, breaking down complex journeys into manageable steps.\n",
       "    *   **Integrated Resource Orchestration:** Seamlessly curates and integrates diverse learning resources (MOOCs, academic courses, articles, videos, podcasts, interactive simulations, practical projects, mentorship opportunities, open-source contributions) into a coherent, navigable flow, eliminating fragmentation.\n",
       "    *   **Continuous Guidance:** Acts as a constant guide, offering clear \"next steps,\" monitoring progress, celebrating milestones, and recalibrating the journey as external factors or internal motivations change.\n",
       "\n",
       "### 3. Agentic Capabilities & Mechanisms (The \"How\"):\n",
       "\n",
       "The AGE Agent operates through a sophisticated, multi-agent architecture with distinct roles, continuously perceiving, reasoning, planning, and acting:\n",
       "\n",
       "1.  **Self-Perception & Goal Interpretation Agent:**\n",
       "    *   **Perception:** Gathers data from explicit user input (career goals, preferences), implicit behavioral signals (time spent, engagement with content, performance on assessments), and even biometric or emotional cues (if user opts in).\n",
       "    *   **Reasoning:** Constructs a comprehensive, evolving \"Knowledge Graph\" of the user's skills, knowledge, learning style, and motivations. Infers deep-seated aspirations beyond explicit statements.\n",
       "    *   **Action:** Communicates findings and proposed initial goals to the user for validation and refinement.\n",
       "\n",
       "2.  **Environmental Scanning & Predictive Intelligence Agent:**\n",
       "    *   **Perception:** Constantly monitors global labor markets (job postings, skill demand, salary trends), emerging technologies, academic research, industry reports, and social trends.\n",
       "    *   **Reasoning:** Uses advanced predictive analytics and machine learning to identify future skill gaps, emerging career paths, and the obsolescence risk of current skills, specific to the user's profile.\n",
       "    *   **Action:** Feeds proactive insights and potential adjustments to the Learning Path Orchestrator.\n",
       "\n",
       "3.  **Learning Path Orchestration Agent:**\n",
       "    *   **Perception:** Receives user profile from Self-Perception Agent and foresight from Environmental Scanning Agent. Monitors user's real-time progress and performance.\n",
       "    *   **Reasoning:** Synthesizes all inputs to dynamically design, sequence, and optimize a personalized, multi-modal learning curriculum. Prioritizes resources based on relevance, quality, user learning style, and time constraints. Identifies dependencies and optimal learning sequences.\n",
       "    *   **Action:** Generates custom learning modules, selects external resources (MOOCs, projects, articles), and creates a coherent, step-by-step \"roadmap\" for the user.\n",
       "\n",
       "4.  **Adaptive Tutoring & Feedback Agent:**\n",
       "    *   **Perception:** Observes user interaction with learning materials, assesses quiz performance, analyzes project submissions, and identifies areas of struggle or mastery.\n",
       "    *   **Reasoning:** Diagnoses learning difficulties, generates targeted feedback, custom explanations, and practice exercises. Adapts explanations to the user's preferred learning style and prior knowledge.\n",
       "    *   **Action:** Delivers real-time feedback, generates new practice problems, suggests alternative resources for challenging concepts, or fast-tracks the user if mastery is demonstrated. Can also simulate real-world scenarios for skill application.\n",
       "\n",
       "5.  **Motivation & Accountability Agent:**\n",
       "    *   **Perception:** Tracks user engagement, consistency, completion rates, and identifies patterns of disengagement.\n",
       "    *   **Reasoning:** Deploys personalized motivational strategies (gamification, progress celebrations, gentle nudges, connecting with peer learning groups) based on the user's individual psychology and historical responses.\n",
       "    *   **Action:** Sends timely reminders, offers encouragement, connects users with mentors or peers, and helps set achievable micro-goals.\n",
       "\n",
       "6.  **Career & Opportunity Bridging Agent:**\n",
       "    *   **Perception:** Understands the user's evolving skill set, career aspirations, and market opportunities identified by the Environmental Scanning Agent.\n",
       "    *   **Reasoning:** Matches skills to job requirements, identifies relevant certifications, networking events, or open-source projects. Can analyze job descriptions and user's profile to suggest tailored resume/cover letter enhancements.\n",
       "    *   **Action:** Proactively suggests relevant job opportunities, internship positions, networking events, or mentorship connections. Helps prepare for interviews by simulating common questions and providing feedback on answers.\n",
       "\n",
       "7.  **Tool Orchestration Agent:**\n",
       "    *   **Perception:** Identifies necessary tools or platforms for specific learning tasks (e.g., IDEs for coding, design software for creative tasks).\n",
       "    *   **Reasoning:** Understands the user's tech stack and seamlessly integrates with external applications.\n",
       "    *   **Action:** Launches relevant tools, schedules virtual meetings (e.g., for mentorship), or integrates with project management software for skill application.\n",
       "\n",
       "### 4. Unique Selling Proposition (USP):\n",
       "\n",
       "The AGE Agent's USP lies in its **holistic, truly proactive, and continuous evolutionary guidance.** Unlike fragmented platforms or reactive advisors, it anticipates future needs, orchestrates a dynamic, personal learning ecosystem across all resources, and evolves with the user and the world, transforming lifelong learning from a daunting task into an empowering, guided journey. It's not just a course recommender; it's a **personal growth operating system.**\n",
       "\n",
       "### 5. Benefits & Impact:\n",
       "\n",
       "*   **For Individuals:**\n",
       "    *   **Enhanced Employability:** Ensures skills remain relevant and competitive.\n",
       "    *   **Reduced Stress & Overwhelm:** Provides clarity and a clear path in a complex world.\n",
       "    *   **Accelerated Growth:** Optimizes learning paths for efficiency and effectiveness.\n",
       "    *   **Increased Motivation & Engagement:** Personalized, adaptive feedback keeps learners on track.\n",
       "    *   **Democratized Access:** Offers world-class, personalized guidance at scale.\n",
       "*   **For Businesses/Economy:**\n",
       "    *   **Highly Skilled Workforce:** Supports continuous upskilling and reskilling initiatives.\n",
       "    *   **Faster Adaptation to Change:** Enables workforces to pivot quickly to new demands.\n",
       "    *   **Increased Productivity & Innovation:** Drives human capital development.\n",
       "\n",
       "### 6. Technology Foundation:\n",
       "\n",
       "*   **Large Language Models (LLMs):** For natural language understanding, generation of custom explanations, feedback, and conversational interfacing.\n",
       "*   **Knowledge Graphs:** To represent skills, concepts, dependencies, user profiles, and market data in a structured, queryable way.\n",
       "*   **Reinforcement Learning (RL):** For optimizing learning paths, pacing, and motivational strategies based on user outcomes and long-term engagement.\n",
       "*   **Predictive Analytics:** For anticipating skill gaps and market trends.\n",
       "*   **Multi-Agent Systems (MAS):** To orchestrate the various specialized agents (perceive, reason, plan, act) autonomously and collaboratively.\n",
       "*   **Natural Language Processing (NLP) & Computer Vision:** For analyzing diverse learning content (text, video, diagrams) to extract concepts and assess relevance.\n",
       "\n",
       "### 7. Business Models:\n",
       "\n",
       "*   **Freemium/Subscription:** Tiered access for individuals (basic guidance free, premium features like 1:1 mentor connections, advanced analytics, portfolio building tools for a fee).\n",
       "*   **B2B for Corporate & Government:** Customized versions for enterprise learning and development, workforce reskilling initiatives.\n",
       "*   **Commission/Affiliate:** Revenue share from recommended external courses or certifications (Coursera, edX, etc.).\n",
       "*   **Outcome-Based:** (Long-term aspiration) Potentially a share of increased salary or successful career transition for individuals, or improved employee retention/productivity for corporations.\n",
       "\n",
       "---\n",
       "\n",
       "The AGE Agent represents a paradigm shift in how we approach lifelong learning, moving from static content delivery to a dynamic, intelligently guided evolution. It's not just a tool; it's a partner in personal and professional growth."
      ],
      "text/plain": [
       "<IPython.core.display.Markdown object>"
      ]
     },
     "metadata": {},
     "output_type": "display_data"
    }
   ],
   "source": [
    "# First create the messages:\n",
    "messages = [{\"role\": \"user\", \"content\": \"Pick a business area that might be worth exploring for an Agentic AI opportunity.\"}]\n",
    "\n",
    "# Then make the first call:\n",
    "response = gemini.chat.completions.create(model=\"gemini-2.5-flash-preview-05-20\", messages=messages)\n",
    "\n",
    "# Then read the business idea:\n",
    "business_idea = response.choices[0].message.content\n",
    "display(Markdown(business_idea))\n",
    "\n",
    "# And repeat! In the next message, include the business idea within the message\n",
    "messages = [{\"role\": \"user\", \"content\": f\"Please propose a pain-point in the {business_idea} industry.\"}]\n",
    "response = gemini.chat.completions.create(model=\"gemini-2.5-flash-preview-05-20\", messages=messages)\n",
    "\n",
    "# Then read the pain-point:\n",
    "pain_point = response.choices[0].message.content\n",
    "display(Markdown(pain_point))\n",
    "\n",
    "# And repeat! In the next message, include the pain-point and business idea within the message\n",
    "messages = [{\"role\": \"user\", \"content\": f\"Please propose a the Agentic AI solution for the {pain_point} pain-point in the {business_idea} industry.\"}]\n",
    "response = gemini.chat.completions.create(model=\"gemini-2.5-flash-preview-05-20\", messages=messages)\n",
    "\n",
    "# Then read the solution:\n",
    "solution = response.choices[0].message.content\n",
    "display(Markdown(solution))"
   ]
  },
  {
   "cell_type": "markdown",
   "metadata": {},
   "source": []
  }
 ],
 "metadata": {
  "kernelspec": {
   "display_name": ".venv",
   "language": "python",
   "name": "python3"
  },
  "language_info": {
   "codemirror_mode": {
    "name": "ipython",
    "version": 3
   },
   "file_extension": ".py",
   "mimetype": "text/x-python",
   "name": "python",
   "nbconvert_exporter": "python",
   "pygments_lexer": "ipython3",
   "version": "3.12.12"
  }
 },
 "nbformat": 4,
 "nbformat_minor": 2
}
